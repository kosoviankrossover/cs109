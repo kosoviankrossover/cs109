{
 "cells": [
  {
   "cell_type": "markdown",
   "metadata": {},
   "source": [
    "# <img style=\"float: left; padding-right: 10px; width: 45px\" src=\"https://raw.githubusercontent.com/Harvard-IACS/2018-CS109A/master/content/styles/iacs.png\"> CS109B Data Science 2: Advanced Topics in Data Science \n",
    "## Homework 4 - RNN\n",
    "\n",
    "\n",
    "\n",
    "**Harvard University**<br/>\n",
    "**Spring 2019**<br/>\n",
    "**Instructors**: Mark Glickman and Pavlos Protopapas \n",
    "\n",
    "\n",
    "<hr style=\"height:2pt\">"
   ]
  },
  {
   "cell_type": "code",
   "execution_count": 1,
   "metadata": {},
   "outputs": [
    {
     "data": {
      "text/html": [
       "<style>\n",
       "blockquote { background: #AEDE94; }\n",
       "h1 { \n",
       "    padding-top: 25px;\n",
       "    padding-bottom: 25px;\n",
       "    text-align: left; \n",
       "    padding-left: 10px;\n",
       "    background-color: #DDDDDD; \n",
       "    color: black;\n",
       "}\n",
       "h2 { \n",
       "    padding-top: 10px;\n",
       "    padding-bottom: 10px;\n",
       "    text-align: left; \n",
       "    padding-left: 5px;\n",
       "    background-color: #EEEEEE; \n",
       "    color: black;\n",
       "}\n",
       "\n",
       "div.exercise {\n",
       "\tbackground-color: #ffcccc;\n",
       "\tborder-color: #E9967A; \t\n",
       "\tborder-left: 5px solid #800080; \n",
       "\tpadding: 0.5em;\n",
       "}\n",
       "\n",
       "span.sub-q {\n",
       "\tfont-weight: bold;\n",
       "}\n",
       "div.theme {\n",
       "\tbackground-color: #DDDDDD;\n",
       "\tborder-color: #E9967A; \t\n",
       "\tborder-left: 5px solid #800080; \n",
       "\tpadding: 0.5em;\n",
       "\tfont-size: 18pt;\n",
       "}\n",
       "div.gc { \n",
       "\tbackground-color: #AEDE94;\n",
       "\tborder-color: #E9967A; \t \n",
       "\tborder-left: 5px solid #800080; \n",
       "\tpadding: 0.5em;\n",
       "\tfont-size: 12pt;\n",
       "}\n",
       "p.q1 { \n",
       "    padding-top: 5px;\n",
       "    padding-bottom: 5px;\n",
       "    text-align: left; \n",
       "    padding-left: 5px;\n",
       "    background-color: #EEEEEE; \n",
       "    color: black;\n",
       "}\n",
       "header {\n",
       "   padding-top: 35px;\n",
       "    padding-bottom: 35px;\n",
       "    text-align: left; \n",
       "    padding-left: 10px;\n",
       "    background-color: #DDDDDD; \n",
       "    color: black;\n",
       "}\n",
       "</style>\n",
       "\n"
      ],
      "text/plain": [
       "<IPython.core.display.HTML object>"
      ]
     },
     "execution_count": 1,
     "metadata": {},
     "output_type": "execute_result"
    }
   ],
   "source": [
    "#RUN THIS CELL \n",
    "import requests\n",
    "from IPython.core.display import HTML\n",
    "styles = requests.get(\"https://raw.githubusercontent.com/Harvard-IACS/2018-CS109A/master/content/styles/cs109.css\").text\n",
    "HTML(styles)"
   ]
  },
  {
   "cell_type": "markdown",
   "metadata": {},
   "source": [
    "### INSTRUCTIONS\n",
    "\n",
    "<span style=\"color:red\">**Model training can be very slow; start doing this HW early**</span>\n",
    "\n",
    "- To submit your assignment follow the instructions given in Canvas.\n",
    "\n",
    "- This homework can be submitted in pairs.\n",
    "\n",
    "- If you submit individually but you have worked with someone, please include the name of your **one** partner below.\n",
    "- Please restart the kernel and run the entire notebook again before you submit.\n",
    "\n",
    "**Names of person you have worked with goes here:**\n",
    "<br><BR>"
   ]
  },
  {
   "cell_type": "markdown",
   "metadata": {},
   "source": [
    "<div class=\"theme\"> Overview: Named Entity Recognition Challenge</div>"
   ]
  },
  {
   "cell_type": "markdown",
   "metadata": {},
   "source": [
    "Named entity recognition (NER) seeks to locate and classify named entities present in unstructured text into predefined categories such as organizations, locations, expressions of times, names of persons, etc. This technique is often used in real use cases such as classifying content for news providers, efficient search algorithms over large corpora and content-based recommendation systems. \n",
    "\n",
    "This represents an interesting \"many-to-many\" problem, allowing us to experiment with recurrent architectures and compare their performances against other models.\n"
   ]
  },
  {
   "cell_type": "code",
   "execution_count": 2,
   "metadata": {},
   "outputs": [
    {
     "name": "stderr",
     "output_type": "stream",
     "text": [
      "Using TensorFlow backend.\n"
     ]
    }
   ],
   "source": [
    "import pandas as pd\n",
    "import numpy as np\n",
    "\n",
    "from sklearn.metrics import f1_score, confusion_matrix\n",
    "from sklearn.model_selection import train_test_split\n",
    "from sklearn.decomposition import PCA\n",
    "\n",
    "\n",
    "import matplotlib.pyplot as plt\n",
    "plt.style.use(\"ggplot\")\n",
    "from copy import deepcopy\n",
    "from keras.layers.convolutional import MaxPooling1D\n",
    "from keras.callbacks import EarlyStopping, ModelCheckpoint\n"
   ]
  },
  {
   "cell_type": "code",
   "execution_count": 3,
   "metadata": {},
   "outputs": [
    {
     "name": "stdout",
     "output_type": "stream",
     "text": [
      "2.2.4\n",
      "1.12.0\n"
     ]
    }
   ],
   "source": [
    "import keras\n",
    "import tensorflow as tf\n",
    "\n",
    "from keras.preprocessing.sequence import pad_sequences\n",
    "from keras.utils import to_categorical,np_utils\n",
    "from keras import backend\n",
    "\n",
    "from keras.models import Model, Input, Sequential,model_from_json\n",
    "ls import SimpleRNN, Embedding, Dense, TimeDistributed, GRU, \\\n",
    "                         Dropout, Bidirectional, Conv1D, BatchNormalization, LSTM, Flatten\n",
    "\n",
    "\n",
    "print(keras.__version__)\n",
    "print(tf.__version__)"
   ]
  },
  {
   "cell_type": "code",
   "execution_count": 4,
   "metadata": {},
   "outputs": [],
   "source": [
    "# Set seed for repeatable results\n",
    "np.random.seed(123)\n",
    "tf.set_random_seed(456)"
   ]
  },
  {
   "cell_type": "markdown",
   "metadata": {},
   "source": [
    "<div class='explication'> </div>\n"
   ]
  },
  {
   "cell_type": "markdown",
   "metadata": {},
   "source": [
    "## Part 1: Read the data"
   ]
  },
  {
   "cell_type": "markdown",
   "metadata": {},
   "source": [
    "Read in data ```HW4_data.csv``` and use the  code below to open the csv as a pandas dataframe.\n",
    "\n",
    "As you can see, we have a dataset with sentences (```Sentence #``` column), each composed of words (```Word``` column) with part-of-speech tagging (```POS``` tagging) and inside–outside–beginning (IOB) named entity tags (```Tag``` column) attached. ```POS``` will not be used for this homework. We will predict ```Tag``` using only the words themselves.\n",
    "\n",
    "Essential info about entities:\n",
    "* geo = Geographical Entity\n",
    "* org = Organization\n",
    "* per = Person\n",
    "* gpe = Geopolitical Entity\n",
    "* tim = Time indicator\n",
    "* art = Artifact\n",
    "* eve = Event\n",
    "* nat = Natural Phenomenon\n",
    "\n",
    "IOB prefix:\n",
    "* B: beginning of named entity\n",
    "* I: inside of named entity\n",
    "* O: outside of named entity"
   ]
  },
  {
   "cell_type": "code",
   "execution_count": 7,
   "metadata": {},
   "outputs": [
    {
     "data": {
      "text/html": [
       "<div>\n",
       "<style scoped>\n",
       "    .dataframe tbody tr th:only-of-type {\n",
       "        vertical-align: middle;\n",
       "    }\n",
       "\n",
       "    .dataframe tbody tr th {\n",
       "        vertical-align: top;\n",
       "    }\n",
       "\n",
       "    .dataframe thead th {\n",
       "        text-align: right;\n",
       "    }\n",
       "</style>\n",
       "<table border=\"1\" class=\"dataframe\">\n",
       "  <thead>\n",
       "    <tr style=\"text-align: right;\">\n",
       "      <th></th>\n",
       "      <th>Sentence #</th>\n",
       "      <th>Word</th>\n",
       "      <th>POS</th>\n",
       "      <th>Tag</th>\n",
       "    </tr>\n",
       "  </thead>\n",
       "  <tbody>\n",
       "    <tr>\n",
       "      <th>0</th>\n",
       "      <td>Sentence: 1</td>\n",
       "      <td>Thousands</td>\n",
       "      <td>NNS</td>\n",
       "      <td>O</td>\n",
       "    </tr>\n",
       "    <tr>\n",
       "      <th>1</th>\n",
       "      <td>Sentence: 1</td>\n",
       "      <td>of</td>\n",
       "      <td>IN</td>\n",
       "      <td>O</td>\n",
       "    </tr>\n",
       "    <tr>\n",
       "      <th>2</th>\n",
       "      <td>Sentence: 1</td>\n",
       "      <td>demonstrators</td>\n",
       "      <td>NNS</td>\n",
       "      <td>O</td>\n",
       "    </tr>\n",
       "    <tr>\n",
       "      <th>3</th>\n",
       "      <td>Sentence: 1</td>\n",
       "      <td>have</td>\n",
       "      <td>VBP</td>\n",
       "      <td>O</td>\n",
       "    </tr>\n",
       "    <tr>\n",
       "      <th>4</th>\n",
       "      <td>Sentence: 1</td>\n",
       "      <td>marched</td>\n",
       "      <td>VBN</td>\n",
       "      <td>O</td>\n",
       "    </tr>\n",
       "    <tr>\n",
       "      <th>5</th>\n",
       "      <td>Sentence: 1</td>\n",
       "      <td>through</td>\n",
       "      <td>IN</td>\n",
       "      <td>O</td>\n",
       "    </tr>\n",
       "    <tr>\n",
       "      <th>6</th>\n",
       "      <td>Sentence: 1</td>\n",
       "      <td>London</td>\n",
       "      <td>NNP</td>\n",
       "      <td>B-geo</td>\n",
       "    </tr>\n",
       "    <tr>\n",
       "      <th>7</th>\n",
       "      <td>Sentence: 1</td>\n",
       "      <td>to</td>\n",
       "      <td>TO</td>\n",
       "      <td>O</td>\n",
       "    </tr>\n",
       "    <tr>\n",
       "      <th>8</th>\n",
       "      <td>Sentence: 1</td>\n",
       "      <td>protest</td>\n",
       "      <td>VB</td>\n",
       "      <td>O</td>\n",
       "    </tr>\n",
       "    <tr>\n",
       "      <th>9</th>\n",
       "      <td>Sentence: 1</td>\n",
       "      <td>the</td>\n",
       "      <td>DT</td>\n",
       "      <td>O</td>\n",
       "    </tr>\n",
       "    <tr>\n",
       "      <th>10</th>\n",
       "      <td>Sentence: 1</td>\n",
       "      <td>war</td>\n",
       "      <td>NN</td>\n",
       "      <td>O</td>\n",
       "    </tr>\n",
       "    <tr>\n",
       "      <th>11</th>\n",
       "      <td>Sentence: 1</td>\n",
       "      <td>in</td>\n",
       "      <td>IN</td>\n",
       "      <td>O</td>\n",
       "    </tr>\n",
       "    <tr>\n",
       "      <th>12</th>\n",
       "      <td>Sentence: 1</td>\n",
       "      <td>Iraq</td>\n",
       "      <td>NNP</td>\n",
       "      <td>B-geo</td>\n",
       "    </tr>\n",
       "    <tr>\n",
       "      <th>13</th>\n",
       "      <td>Sentence: 1</td>\n",
       "      <td>and</td>\n",
       "      <td>CC</td>\n",
       "      <td>O</td>\n",
       "    </tr>\n",
       "    <tr>\n",
       "      <th>14</th>\n",
       "      <td>Sentence: 1</td>\n",
       "      <td>demand</td>\n",
       "      <td>VB</td>\n",
       "      <td>O</td>\n",
       "    </tr>\n",
       "  </tbody>\n",
       "</table>\n",
       "</div>"
      ],
      "text/plain": [
       "     Sentence #           Word  POS    Tag\n",
       "0   Sentence: 1      Thousands  NNS      O\n",
       "1   Sentence: 1             of   IN      O\n",
       "2   Sentence: 1  demonstrators  NNS      O\n",
       "3   Sentence: 1           have  VBP      O\n",
       "4   Sentence: 1        marched  VBN      O\n",
       "5   Sentence: 1        through   IN      O\n",
       "6   Sentence: 1         London  NNP  B-geo\n",
       "7   Sentence: 1             to   TO      O\n",
       "8   Sentence: 1        protest   VB      O\n",
       "9   Sentence: 1            the   DT      O\n",
       "10  Sentence: 1            war   NN      O\n",
       "11  Sentence: 1             in   IN      O\n",
       "12  Sentence: 1           Iraq  NNP  B-geo\n",
       "13  Sentence: 1            and   CC      O\n",
       "14  Sentence: 1         demand   VB      O"
      ]
     },
     "execution_count": 7,
     "metadata": {},
     "output_type": "execute_result"
    }
   ],
   "source": [
    "# Given code\n",
    "path_dataset = './HW4_data.csv'\n",
    "data = pd.read_csv(path_dataset, encoding=\"latin1\")\n",
    "data = data.fillna(method=\"ffill\")\n",
    "data.head(15)"
   ]
  },
  {
   "cell_type": "markdown",
   "metadata": {},
   "source": [
    "<div class='exercise'><b> Question 1.  Prepare Data [20pt]</b></div>\n"
   ]
  },
  {
   "cell_type": "markdown",
   "metadata": {},
   "source": [
    "<span class='sub-q'> **Question 1.1**</span> \n",
    "* (1) Create a list of unique words found in column 'Word'\n",
    "* (2) Sort the list in alphabetic order\n",
    "* (3) Append the special word \"ENDPAD\" to the end of the list, and store it to a variable ```words```\n",
    "* (4) Store the length of this list to a variable ```n_words```"
   ]
  },
  {
   "cell_type": "markdown",
   "metadata": {},
   "source": [
    "<div class='explication'> </div>"
   ]
  },
  {
   "cell_type": "code",
   "execution_count": 107,
   "metadata": {},
   "outputs": [],
   "source": [
    "words = sorted(list(set(data.Word.values)))+['ENDPAD']\n",
    "n_words = len(words)"
   ]
  },
  {
   "cell_type": "markdown",
   "metadata": {},
   "source": [
    "<span class='sub-q'>**Question 1.2**</span>\n",
    "* (1) Store a list of unique tags into a variable ```tags```, paying attention to sort the list in alphabetic order\n",
    "* (2) Append the special tag \"PAD\" to the end of the list\n",
    "* (3) Store the length of this list to a variable ```n_tags```"
   ]
  },
  {
   "cell_type": "markdown",
   "metadata": {},
   "source": [
    "<div class='explication'> </div>"
   ]
  },
  {
   "cell_type": "code",
   "execution_count": 106,
   "metadata": {},
   "outputs": [],
   "source": [
    "tags = sorted(list(set(data.Tag.values)))+['PAD']\n",
    "n_tags = len(tags)"
   ]
  },
  {
   "cell_type": "markdown",
   "metadata": {},
   "source": [
    "<span class='sub-q'>**Question 1.3**</span>\n",
    "* (1) Process data into a list of sentences, each sentence is a list of (word, tag) tuples.\n",
    "\n",
    "**Example**\n",
    "\n",
    "First sentence in the list of sentences:\n",
    "\n",
    "[('Thousands', 'O'),\n",
    " ('of',  'O'),\n",
    " ('demonstrators', 'O'),\n",
    " ('have', 'O'),\n",
    " ('marched', 'O'),\n",
    " ('through', 'O'),\n",
    " ('London', 'B-geo'),\n",
    " ('to', 'O'),\n",
    " ('protest', 'O'),\n",
    " ('the', 'O'),\n",
    " ('war', 'O'),\n",
    " ('in', 'O'),\n",
    " ('Iraq', 'B-geo'),\n",
    " ('and', 'O'),\n",
    " ('demand', 'O'),\n",
    " ('the', 'O'),\n",
    " ('withdrawal', 'O'),\n",
    " ('of', 'O'),\n",
    " ('British', 'B-gpe'),\n",
    " ('troops', 'O'),\n",
    " ('from', 'O'),\n",
    " ('that', 'O'),\n",
    " ('country', 'O'),\n",
    " ('.', 'O')]\n",
    "* (2) Find out the number of words in the longest sentence, and store it to variable ```max_len```\n"
   ]
  },
  {
   "cell_type": "markdown",
   "metadata": {},
   "source": [
    "<div class='explication'> </div>"
   ]
  },
  {
   "cell_type": "code",
   "execution_count": 11,
   "metadata": {},
   "outputs": [],
   "source": [
    "list_sentences = []\n",
    "for sentence, group in data.groupby(['Sentence #']):\n",
    "    temp = []\n",
    "    for i in range(group.shape[0]):\n",
    "        temp.append((group.iloc[i,1], group.iloc[i,3]))\n",
    "    list_sentences.append(temp)"
   ]
  },
  {
   "cell_type": "code",
   "execution_count": 12,
   "metadata": {},
   "outputs": [
    {
     "name": "stdout",
     "output_type": "stream",
     "text": [
      "[('Thousands', 'O'), ('of', 'O'), ('demonstrators', 'O'), ('have', 'O'), ('marched', 'O'), ('through', 'O'), ('London', 'B-geo'), ('to', 'O'), ('protest', 'O'), ('the', 'O'), ('war', 'O'), ('in', 'O'), ('Iraq', 'B-geo'), ('and', 'O'), ('demand', 'O'), ('the', 'O'), ('withdrawal', 'O'), ('of', 'O'), ('British', 'B-gpe'), ('troops', 'O'), ('from', 'O'), ('that', 'O'), ('country', 'O'), ('.', 'O')]\n"
     ]
    }
   ],
   "source": [
    "print(list_sentences[0])"
   ]
  },
  {
   "cell_type": "code",
   "execution_count": 13,
   "metadata": {},
   "outputs": [],
   "source": [
    "def longest_sentence(sentences):\n",
    "    max_len = 0\n",
    "    for i in range(len(sentences)):\n",
    "        temp = len(sentences[i])\n",
    "        if temp > max_len:\n",
    "            max_len = temp\n",
    "    return(max_len)"
   ]
  },
  {
   "cell_type": "code",
   "execution_count": 14,
   "metadata": {},
   "outputs": [],
   "source": [
    "# straightforward function \n",
    "max_len = longest_sentence(list_sentences)"
   ]
  },
  {
   "cell_type": "code",
   "execution_count": 15,
   "metadata": {},
   "outputs": [
    {
     "name": "stdout",
     "output_type": "stream",
     "text": [
      "True\n"
     ]
    }
   ],
   "source": [
    "# check function \n",
    "print(max_len == data.groupby(['Sentence #'])['Word'].count().max())"
   ]
  },
  {
   "cell_type": "code",
   "execution_count": 10,
   "metadata": {},
   "outputs": [],
   "source": [
    "# max_len = 104\n",
    "# n_tags =18\n",
    "# n_words = 35179"
   ]
  },
  {
   "cell_type": "markdown",
   "metadata": {},
   "source": [
    "<span class='sub-q'>**Question 1.4**</span>"
   ]
  },
  {
   "cell_type": "markdown",
   "metadata": {},
   "source": [
    "It's now time to convert the sentences data in a suitable format for the RNNs training/evaluation procedures. To this end, you are required to:\n",
    "* (1) Create a ```word2idx``` dictionary mapping distinct words from the dataset into distinct integers. Also create a ```idx2word``` dictionary. \n",
    "* (2) Prepare the predictors matrix ```X```, as a list of lists, where each inner list is a sequence of words mapped into integers accordly to the ```word2idx``` dictionary. \n",
    "* (3) Apply the keras ```pad_sequences``` function to standardize the predictors. You should retrieve a matrix with all padded sentences and length equal to ```max_len``` previously computed. The dimensionality should therefore be equal to ```[# of sentences, max_len]```\n",
    "\n",
    "Your ```X[i]``` now should be something similar to this:\n",
    "\n",
    "```[ 8193 27727 31033 33289 22577 33464 23723 16665 33464 31142 31319 28267\n",
    " 27700 33246 28646 16052    21 16915 17349  7924 32879 32985 18238 23555\n",
    "    24 35178 35178 35178 35178 35178 35178 35178 35178 35178 35178 35178\n",
    " 35178 35178 35178 35178 35178 35178 35178 35178 35178 35178 35178 35178\n",
    " 35178 35178 35178 35178 35178 35178 35178 35178 35178 35178 35178 35178\n",
    " 35178 35178 35178 35178 35178 35178 35178 35178 35178 35178 35178 35178\n",
    " 35178 35178 35178 35178 35178 35178 35178 35178 35178 35178 35178 35178\n",
    " 35178 35178 35178 35178 35178 35178 35178 35178 35178 35178 35178 35178\n",
    " 35178 35178 35178 35178 35178 35178 35178 35178]```\n",
    " \n",
    "* (4) Create a ```tag2idx``` dictionary mapping distinct named entity tags from the dataset into distinct integers. Also create a ```idx2tag``` dictionary.\n",
    "\n",
    "* (5) Prepare targets matrix ```Y```, as a list of lists,where each inner list is a sequence of tags mapped into integers accordly to the ```tag2idx``` dictionary.\n",
    "* (6) apply the keras ```pad_sequences``` function to standardize the targets. Inject the ```PAD``` tag for the padding words. You should retrieve a matrix with all padded sentences'tags and length equal to ```max_length``` previously computed. \n",
    "\n",
    "* (7) Use the ```to_categorical``` keras function to one-hot encode the tags.\n",
    "\n",
    "Now your ```Y``` should have dimension ```[# of sentences, max_len, n_tags]```\n",
    "\n",
    "* (8) Split the dataset in train and test datasets (test 10%)."
   ]
  },
  {
   "cell_type": "markdown",
   "metadata": {},
   "source": [
    "<div class='explication'> </div>"
   ]
  },
  {
   "cell_type": "code",
   "execution_count": 108,
   "metadata": {},
   "outputs": [],
   "source": [
    "# word mappings\n",
    "word2idx = {word: idx for idx,word in enumerate(words)}\n",
    "idx2word = {idx: word for word, idx in word2idx.items()}\n",
    "\n",
    "# tag mapping\n",
    "tag2idx = {tag: idx for idx, tag in enumerate(tags)}\n",
    "idx2tag = {idx: tag for tag, idx in tag2idx.items()}"
   ]
  },
  {
   "cell_type": "code",
   "execution_count": 17,
   "metadata": {},
   "outputs": [
    {
     "name": "stdout",
     "output_type": "stream",
     "text": [
      "We're good!\n"
     ]
    }
   ],
   "source": [
    "# sanity checks\n",
    "error = False\n",
    "for i in np.random.randint(0,n_words,10):\n",
    "    if i != word2idx[idx2word[i]]:\n",
    "        error = True\n",
    "for i in np.random.randint(0, n_tags,10):\n",
    "    if i != tag2idx[idx2tag[i]]:\n",
    "        error = True\n",
    "if error:\n",
    "    print('Error')\n",
    "else:\n",
    "    print('We\\'re good!')"
   ]
  },
  {
   "cell_type": "code",
   "execution_count": 18,
   "metadata": {},
   "outputs": [
    {
     "name": "stdout",
     "output_type": "stream",
     "text": [
      "True\n"
     ]
    }
   ],
   "source": [
    "# grapn numvber of sentencese\n",
    "n_sentences = len(list_sentences)\n",
    "print(n_sentences == data.groupby('Sentence #').ngroups)"
   ]
  },
  {
   "cell_type": "code",
   "execution_count": 19,
   "metadata": {},
   "outputs": [],
   "source": [
    "# mapping \n",
    "x = []\n",
    "y = []\n",
    "# loop over sentences\n",
    "for sentence in list_sentences:\n",
    "    # temporary lists\n",
    "    # fill X with the words\n",
    "    # fill Y with the tags\n",
    "    temp_x = []\n",
    "    temp_y = []\n",
    "    for tup in sentence:\n",
    "        temp_x.append(tup[0])\n",
    "        temp_y.append(tup[1])\n",
    "    # map the words in the sentence\n",
    "    temp_x = list(map(word2idx.get, temp_x))\n",
    "    # map the tags in the sentence\n",
    "    temp_y = list(map(tag2idx.get, temp_y))\n",
    "    x.append(temp_x)\n",
    "    y.append(temp_y)"
   ]
  },
  {
   "cell_type": "code",
   "execution_count": 20,
   "metadata": {},
   "outputs": [],
   "source": [
    "# padding \n",
    "X = pad_sequences(x, maxlen=max_len, padding= 'post', value= word2idx['ENDPAD'])\n",
    "Y = pad_sequences(y, maxlen=max_len, padding= 'post', value= tag2idx['PAD'])"
   ]
  },
  {
   "cell_type": "code",
   "execution_count": 21,
   "metadata": {},
   "outputs": [
    {
     "name": "stdout",
     "output_type": "stream",
     "text": [
      "[15077 27700 20969 24218 26434 33389  9684 33464 29396 33246 34660 24853\n",
      "  8204 17364 20924 33246 34973 27700  4010 33786 23512 33242 20368    24\n",
      " 35178 35178 35178 35178 35178 35178 35178 35178 35178 35178 35178 35178\n",
      " 35178 35178 35178 35178 35178 35178 35178 35178 35178 35178 35178 35178\n",
      " 35178 35178 35178 35178 35178 35178 35178 35178 35178 35178 35178 35178\n",
      " 35178 35178 35178 35178 35178 35178 35178 35178 35178 35178 35178 35178\n",
      " 35178 35178 35178 35178 35178 35178 35178 35178 35178 35178 35178 35178\n",
      " 35178 35178 35178 35178 35178 35178 35178 35178 35178 35178 35178 35178\n",
      " 35178 35178 35178 35178 35178 35178 35178 35178]\n",
      "[16 16 16 16 16 16  2 16 16 16 16 16  2 16 16 16 16 16  3 16 16 16 16 16\n",
      " 17 17 17 17 17 17 17 17 17 17 17 17 17 17 17 17 17 17 17 17 17 17 17 17\n",
      " 17 17 17 17 17 17 17 17 17 17 17 17 17 17 17 17 17 17 17 17 17 17 17 17\n",
      " 17 17 17 17 17 17 17 17 17 17 17 17 17 17 17 17 17 17 17 17 17 17 17 17\n",
      " 17 17 17 17 17 17 17 17]\n"
     ]
    }
   ],
   "source": [
    "print(X[0])\n",
    "print(Y[0])"
   ]
  },
  {
   "cell_type": "code",
   "execution_count": 22,
   "metadata": {},
   "outputs": [
    {
     "name": "stdout",
     "output_type": "stream",
     "text": [
      "Dimensions match!\n"
     ]
    }
   ],
   "source": [
    "error = False\n",
    "for s1,s2 in zip(X,Y):\n",
    "    if len(s1) != max_len or len(s2) != max_len:\n",
    "        error = True\n",
    "if error:\n",
    "    print('Error')\n",
    "else:\n",
    "    print('Dimensions match!')"
   ]
  },
  {
   "cell_type": "code",
   "execution_count": 23,
   "metadata": {},
   "outputs": [],
   "source": [
    "# create array\n",
    "X = np.array(X)\n",
    "# to categorical \n",
    "Y = to_categorical(Y)"
   ]
  },
  {
   "cell_type": "code",
   "execution_count": 24,
   "metadata": {},
   "outputs": [],
   "source": [
    "# split \n",
    "X_train, X_test, Y_train, Y_test = train_test_split(X, Y, test_size= 0.1)"
   ]
  },
  {
   "cell_type": "markdown",
   "metadata": {},
   "source": [
    "<div class=\"alert alert-block alert-info\">\n",
    "\n",
    "The first portion of the below code refers to 'Sentence 1' with index 1. Index 1 actually is the second sentence, so we will correct 'Sentence 1\" to 'Sentence 2'.\n",
    "\n",
    "</div>"
   ]
  },
  {
   "cell_type": "code",
   "execution_count": 22,
   "metadata": {},
   "outputs": [
    {
     "name": "stdout",
     "output_type": "stream",
     "text": [
      "The index of word 'Harvard' is: 7506\n",
      "\n",
      "Sentence 2: [ 8193 27727 31033 33289 22577 33464 23723 16665 33464 31142 31319 28267\n",
      " 27700 33246 28646 16052    21 16915 17349  7924 32879 32985 18238 23555\n",
      "    24 35178 35178 35178 35178 35178 35178 35178 35178 35178 35178 35178\n",
      " 35178 35178 35178 35178 35178 35178 35178 35178 35178 35178 35178 35178\n",
      " 35178 35178 35178 35178 35178 35178 35178 35178 35178 35178 35178 35178\n",
      " 35178 35178 35178 35178 35178 35178 35178 35178 35178 35178 35178 35178\n",
      " 35178 35178 35178 35178 35178 35178 35178 35178 35178 35178 35178 35178\n",
      " 35178 35178 35178 35178 35178 35178 35178 35178 35178 35178 35178 35178\n",
      " 35178 35178 35178 35178 35178 35178 35178 35178]\n",
      "\n",
      "(47959, 104)\n"
     ]
    }
   ],
   "source": [
    "# Run this cell to show your results #\n",
    "print(\"The index of word 'Harvard' is: {}\\n\".format(word2idx[\"Harvard\"]))\n",
    "# was:\n",
    "# print(\"Sentence 1: {}\\n\".format(X[1]))\n",
    "# now:\n",
    "print(\"Sentence 2: {}\\n\".format(X[1]))\n",
    "print(X.shape)"
   ]
  },
  {
   "cell_type": "code",
   "execution_count": 23,
   "metadata": {},
   "outputs": [
    {
     "name": "stdout",
     "output_type": "stream",
     "text": [
      "The index of tag 'B-gpe' is: 3\n",
      "\n",
      "The tag of the last word in Sentence 1: 16\n",
      "\n",
      "(47959, 104, 18)\n"
     ]
    }
   ],
   "source": [
    "# Run this cell to show your results #\n",
    "print(\"The index of tag 'B-gpe' is: {}\\n\".format(tag2idx[\"B-gpe\"]))\n",
    "print(\"The tag of the last word in Sentence 1: {}\\n\".format(y[0][-1]))\n",
    "print(Y.shape)"
   ]
  },
  {
   "cell_type": "code",
   "execution_count": 27,
   "metadata": {},
   "outputs": [],
   "source": [
    "np.save('X',X)"
   ]
  },
  {
   "cell_type": "code",
   "execution_count": 28,
   "metadata": {},
   "outputs": [],
   "source": [
    "np.save('Y',Y)"
   ]
  },
  {
   "cell_type": "markdown",
   "metadata": {},
   "source": [
    "## Part 2: Modelling\n",
    "\n",
    "After preparing the train and test sets, we are ready to build five models: \n",
    "* frequency-based baseline \n",
    "* vanilla feedforward neural network\n",
    "* recurrent neural network\n",
    "* gated recurrent neural network\n",
    "* bidirectional gated recurrent neural network\n",
    "\n",
    "More details are given about architecture in each model's section. The input/output dimensionalities will be the same for all models:\n",
    "* input: ```[# of sentences, max_len]```\n",
    "* output: ```[# of sentences, max_len, n_tags]```\n",
    "\n",
    "Follow the information in each model's section to set up the architecture of each model. And the end of each training, use the given ```store_model``` function to store the weights and architectures in the ```./models``` path for later testing;```load_keras_model()``` is also provided to you\n",
    "\n",
    "A further ```plot_training_history``` helper function is given in case you need to check the training history.\n"
   ]
  },
  {
   "cell_type": "code",
   "execution_count": 86,
   "metadata": {},
   "outputs": [],
   "source": [
    "# Store model\n",
    "def store_keras_model(model, model_name):\n",
    "    model_json = model.to_json() # serialize model to JSON\n",
    "    with open(\"./models/{}.json\".format(model_name), \"w\") as json_file:\n",
    "        json_file.write(model_json)\n",
    "    model.save_weights(\"./models/{}.h5\".format(model_name)) # serialize weights to HDF5\n",
    "    print(\"Saved model to disk\")\n",
    "    \n",
    "# Plot history\n",
    "def plot_training_history(history):\n",
    "    loss = history.history['loss']\n",
    "    val_loss = history.history['val_loss']\n",
    "    epochs = range(1,len(loss)+1)\n",
    "\n",
    "    plt.figure()\n",
    "    plt.plot(epochs, loss, 'bo', label='Training loss')\n",
    "    plt.plot(epochs, val_loss, 'b', label='Validation loss')\n",
    "    plt.title('Training and validation loss')\n",
    "    plt.xlabel('epoch')\n",
    "    plt.legend()\n",
    "    plt.show()"
   ]
  },
  {
   "cell_type": "code",
   "execution_count": 34,
   "metadata": {},
   "outputs": [],
   "source": [
    "# Load model \n",
    "def load_keras_model(model_name):\n",
    "    # Load json and create model\n",
    "    json_file = open('./models/{}.json'.format(model_name), 'r')\n",
    "    loaded_model_json = json_file.read()\n",
    "    json_file.close()\n",
    "    model = model_from_json(loaded_model_json)\n",
    "    # Load weights into new model\n",
    "    model.load_weights(\"./models/{}.h5\".format(model_name))\n",
    "    return model"
   ]
  },
  {
   "cell_type": "markdown",
   "metadata": {},
   "source": [
    "<div class='exercise'><b>Question 2: Models [40pt]</b></div>"
   ]
  },
  {
   "cell_type": "markdown",
   "metadata": {},
   "source": [
    "<span class='sub-q'>**Question 2.1**</span>\n",
    "\n",
    "### Model 1: Baseline Model ###"
   ]
  },
  {
   "cell_type": "markdown",
   "metadata": {},
   "source": [
    "Predict the tag of a word simply with the most frequently-seen named entity tag of this word from the training set.\n",
    "\n",
    "e.g. word \"Apple\" appears 10 times in the training set; 7 times it was tagged as \"Corporate\" and 3 times it was tagged as \"Fruit\". If we encounter the word \"Apple\" in the test set, we predict it as \"Corporate\".\n",
    "\n",
    "**Create an np.array ```baseline``` of length [n_words]**\n",
    "where the ith element   ```baseline[i]``` is the index of the most commonly seen named entity tag of word i summarised from training set.   (e.g. [16, 16, 16, ..., 0, 16, 16])\n",
    "\n",
    "\n"
   ]
  },
  {
   "cell_type": "markdown",
   "metadata": {},
   "source": [
    "<div class='explication'> </div>"
   ]
  },
  {
   "cell_type": "code",
   "execution_count": 211,
   "metadata": {},
   "outputs": [],
   "source": [
    "baseline = np.zeros(n_words)-1\n",
    "for i in range(n_words):\n",
    "    msk = np.where(X_train == i)\n",
    "    temp = Y_train[msk].sum(axis=0).argmax()\n",
    "    baseline[i] = temp"
   ]
  },
  {
   "cell_type": "code",
   "execution_count": 356,
   "metadata": {},
   "outputs": [
    {
     "name": "stdout",
     "output_type": "stream",
     "text": [
      "(47959, 104) \n",
      "\n",
      "Sentence:\n",
      " ['Thousands', 'of', 'demonstrators', 'have', 'marched', 'through', 'London', 'to', 'protest', 'the', 'war', 'in', 'Iraq', 'and', 'demand', 'the', 'withdrawal', 'of', 'British', 'troops', 'from', 'that', 'country', '.', 'ENDPAD', 'ENDPAD', 'ENDPAD', 'ENDPAD', 'ENDPAD', 'ENDPAD', 'ENDPAD', 'ENDPAD', 'ENDPAD', 'ENDPAD', 'ENDPAD', 'ENDPAD', 'ENDPAD', 'ENDPAD', 'ENDPAD', 'ENDPAD', 'ENDPAD', 'ENDPAD', 'ENDPAD', 'ENDPAD', 'ENDPAD', 'ENDPAD', 'ENDPAD', 'ENDPAD', 'ENDPAD', 'ENDPAD', 'ENDPAD', 'ENDPAD', 'ENDPAD', 'ENDPAD', 'ENDPAD', 'ENDPAD', 'ENDPAD', 'ENDPAD', 'ENDPAD', 'ENDPAD', 'ENDPAD', 'ENDPAD', 'ENDPAD', 'ENDPAD', 'ENDPAD', 'ENDPAD', 'ENDPAD', 'ENDPAD', 'ENDPAD', 'ENDPAD', 'ENDPAD', 'ENDPAD', 'ENDPAD', 'ENDPAD', 'ENDPAD', 'ENDPAD', 'ENDPAD', 'ENDPAD', 'ENDPAD', 'ENDPAD', 'ENDPAD', 'ENDPAD', 'ENDPAD', 'ENDPAD', 'ENDPAD', 'ENDPAD', 'ENDPAD', 'ENDPAD', 'ENDPAD', 'ENDPAD', 'ENDPAD', 'ENDPAD', 'ENDPAD', 'ENDPAD', 'ENDPAD', 'ENDPAD', 'ENDPAD', 'ENDPAD', 'ENDPAD', 'ENDPAD', 'ENDPAD', 'ENDPAD', 'ENDPAD', 'ENDPAD']\n",
      "\n",
      "Predicted Tags:\n",
      " ['O', 'O', 'O', 'O', 'O', 'O', 'B-geo', 'O', 'O', 'O', 'O', 'O', 'B-geo', 'O', 'O', 'O', 'O', 'O', 'B-gpe', 'O', 'O', 'O', 'O', 'O', 'PAD', 'PAD', 'PAD', 'PAD', 'PAD', 'PAD', 'PAD', 'PAD', 'PAD', 'PAD', 'PAD', 'PAD', 'PAD', 'PAD', 'PAD', 'PAD', 'PAD', 'PAD', 'PAD', 'PAD', 'PAD', 'PAD', 'PAD', 'PAD', 'PAD', 'PAD', 'PAD', 'PAD', 'PAD', 'PAD', 'PAD', 'PAD', 'PAD', 'PAD', 'PAD', 'PAD', 'PAD', 'PAD', 'PAD', 'PAD', 'PAD', 'PAD', 'PAD', 'PAD', 'PAD', 'PAD', 'PAD', 'PAD', 'PAD', 'PAD', 'PAD', 'PAD', 'PAD', 'PAD', 'PAD', 'PAD', 'PAD', 'PAD', 'PAD', 'PAD', 'PAD', 'PAD', 'PAD', 'PAD', 'PAD', 'PAD', 'PAD', 'PAD', 'PAD', 'PAD', 'PAD', 'PAD', 'PAD', 'PAD', 'PAD', 'PAD', 'PAD', 'PAD', 'PAD', 'PAD']\n"
     ]
    }
   ],
   "source": [
    "# Run this cell to show your results #\n",
    "\n",
    "print(baseline[X].shape,'\\n')\n",
    "print('Sentence:\\n {}\\n'.format([idx2word[w] for w in X[0]]))\n",
    "print('Predicted Tags:\\n {}'.format([idx2tag[i] for i in baseline[X[0]]]))"
   ]
  },
  {
   "cell_type": "code",
   "execution_count": 212,
   "metadata": {},
   "outputs": [],
   "source": [
    "np.save('baseline', baseline)"
   ]
  },
  {
   "cell_type": "markdown",
   "metadata": {},
   "source": [
    "### Model 2: Vanilla Feed Forward Neural Network ###\n",
    "\n",
    "This model is provided to you. Please pay attention to the architecture of this neural network, especially the input/output dimensionalities and the Embedding layer.\n",
    "\n"
   ]
  },
  {
   "cell_type": "markdown",
   "metadata": {},
   "source": [
    "<span class='sub-q'>**Question 2.2**</span>\n",
    "\n",
    "(1) Explain what is embedding layer and why we need it here.\n",
    "\n",
    "(2) Explain why the Param # of Embedding layer is 1758950 (as shown in ```print(model.summary())```)."
   ]
  },
  {
   "cell_type": "markdown",
   "metadata": {},
   "source": [
    "### Hyperparameters shared with other NN models"
   ]
  },
  {
   "cell_type": "code",
   "execution_count": 93,
   "metadata": {},
   "outputs": [],
   "source": [
    "# try different params in models\n",
    "n_units = 100\n",
    "# n_units = 200\n",
    "# n_units = 150\n",
    "drop_rate = .1\n",
    "# drop_rate = .2\n",
    "dim_embed = 50\n",
    "# dim_embed = 100\n",
    "# dim_embed = 150\n",
    "\n",
    "optimizer = \"rmsprop\"\n",
    "loss = \"categorical_crossentropy\"\n",
    "metrics = [\"accuracy\"]\n",
    "\n",
    "batch_size = 32\n",
    "epochs = 10\n",
    "validation_split = 0.1\n",
    "verbose = 1"
   ]
  },
  {
   "cell_type": "code",
   "execution_count": 342,
   "metadata": {},
   "outputs": [],
   "source": [
    "# use clear_session to start a new model #\n",
    "backend.clear_session()\n",
    "\n",
    "# Define model\n",
    "model=Sequential()\n",
    "model.add(Embedding(input_dim=n_words, output_dim=dim_embed, input_length=max_len))\n",
    "model.add(Dropout(drop_rate))\n",
    "model.add(Dense(n_tags, activation=\"softmax\"))\n",
    "\n",
    "# Compile model\n",
    "model.compile(optimizer=optimizer, loss=loss, metrics=metrics)"
   ]
  },
  {
   "cell_type": "code",
   "execution_count": 343,
   "metadata": {},
   "outputs": [
    {
     "name": "stdout",
     "output_type": "stream",
     "text": [
      "_________________________________________________________________\n",
      "Layer (type)                 Output Shape              Param #   \n",
      "=================================================================\n",
      "embedding_1 (Embedding)      (None, 104, 50)           1758950   \n",
      "_________________________________________________________________\n",
      "dropout_1 (Dropout)          (None, 104, 50)           0         \n",
      "_________________________________________________________________\n",
      "dense_1 (Dense)              (None, 104, 18)           918       \n",
      "=================================================================\n",
      "Total params: 1,759,868\n",
      "Trainable params: 1,759,868\n",
      "Non-trainable params: 0\n",
      "_________________________________________________________________\n",
      "None\n"
     ]
    }
   ],
   "source": [
    "print(model.summary())"
   ]
  },
  {
   "cell_type": "code",
   "execution_count": 345,
   "metadata": {
    "scrolled": true
   },
   "outputs": [
    {
     "name": "stdout",
     "output_type": "stream",
     "text": [
      "Train on 38846 samples, validate on 4317 samples\n",
      "Epoch 1/10\n",
      "38846/38846 [==============================] - 7s 176us/step - loss: 0.3150 - acc: 0.9780 - val_loss: 0.0584 - val_acc: 0.9861\n",
      "Epoch 2/10\n",
      "38846/38846 [==============================] - 6s 156us/step - loss: 0.0515 - acc: 0.9862 - val_loss: 0.0467 - val_acc: 0.9870\n",
      "Epoch 3/10\n",
      "38846/38846 [==============================] - 6s 150us/step - loss: 0.0453 - acc: 0.9872 - val_loss: 0.0441 - val_acc: 0.9876\n",
      "Epoch 4/10\n",
      "38846/38846 [==============================] - 6s 153us/step - loss: 0.0430 - acc: 0.9877 - val_loss: 0.0429 - val_acc: 0.9878\n",
      "Epoch 5/10\n",
      "38846/38846 [==============================] - 6s 153us/step - loss: 0.0417 - acc: 0.9880 - val_loss: 0.0422 - val_acc: 0.9881\n",
      "Epoch 6/10\n",
      "38846/38846 [==============================] - 6s 151us/step - loss: 0.0409 - acc: 0.9883 - val_loss: 0.0417 - val_acc: 0.9883\n",
      "Epoch 7/10\n",
      "38846/38846 [==============================] - 6s 152us/step - loss: 0.0403 - acc: 0.9885 - val_loss: 0.0415 - val_acc: 0.9883\n",
      "Epoch 8/10\n",
      "38846/38846 [==============================] - 6s 150us/step - loss: 0.0399 - acc: 0.9887 - val_loss: 0.0412 - val_acc: 0.9885\n",
      "Epoch 9/10\n",
      "38846/38846 [==============================] - 6s 153us/step - loss: 0.0396 - acc: 0.9888 - val_loss: 0.0410 - val_acc: 0.9885\n",
      "Epoch 10/10\n",
      "38846/38846 [==============================] - 6s 153us/step - loss: 0.0393 - acc: 0.9889 - val_loss: 0.0409 - val_acc: 0.9886\n"
     ]
    }
   ],
   "source": [
    "# Train model\n",
    "history = model.fit(X_train, Y_train, batch_size=batch_size, epochs=epochs, \n",
    "                    validation_split=validation_split, verbose=verbose)"
   ]
  },
  {
   "cell_type": "code",
   "execution_count": 347,
   "metadata": {},
   "outputs": [
    {
     "name": "stdout",
     "output_type": "stream",
     "text": [
      "Saved model to disk\n"
     ]
    }
   ],
   "source": [
    "store_keras_model(model, 'model_FFNN')"
   ]
  },
  {
   "cell_type": "code",
   "execution_count": 348,
   "metadata": {},
   "outputs": [
    {
     "data": {
      "image/png": "[encoded data removed]",
      "text/plain": [
       "<Figure size 432x288 with 1 Axes>"
      ]
     },
     "metadata": {
      "needs_background": "light"
     },
     "output_type": "display_data"
    }
   ],
   "source": [
    "plot_training_history(history)"
   ]
  },
  {
   "cell_type": "markdown",
   "metadata": {},
   "source": [
    "In addition to the final result, we also want to see the intermediate results from hidden layers. Below is an example showing how to get outputs from a hidden layer, and visualize them on the reduced dimension of 2D by PCA. (**Please note that these codes and parameters cannot be simply copied and pasted for other questions; some adjustments need to be made**) "
   ]
  },
  {
   "cell_type": "code",
   "execution_count": 57,
   "metadata": {},
   "outputs": [
    {
     "name": "stdout",
     "output_type": "stream",
     "text": [
      "Variance explained by PCA: 0.9345781323681346\n"
     ]
    }
   ],
   "source": [
    "FFNN=load_keras_model('model_FFNN')\n",
    "\n",
    "def create_truncated_model_FFNN(trained_model):\n",
    "    model=Sequential()\n",
    "    model.add(Embedding(input_dim=n_words, output_dim=dim_embed, input_length=max_len))\n",
    "    model.add(Dropout(drop_rate))\n",
    "    # set weights of first few layers using the weights of trained model\n",
    "    for i, layer in enumerate(model.layers):\n",
    "        layer.set_weights(trained_model.layers[i].get_weights())\n",
    "    model.compile(optimizer=optimizer, loss=loss, metrics=metrics)\n",
    "    return model\n",
    "truncated_model = create_truncated_model_FFNN(FFNN)\n",
    "hidden_features = truncated_model.predict(X_train)\n",
    "\n",
    "# flatten data\n",
    "hidden_features_pre = hidden_features\n",
    "hidden_features=hidden_features.reshape(-1,50)\n",
    "y_te=Y_train.reshape(-1,18)\n",
    " \n",
    "# find first two PCA components\n",
    "pca = PCA(n_components=2)\n",
    "pca_result = pca.fit_transform(hidden_features)\n",
    "print('Variance explained by PCA: {}'.format(np.sum(pca.explained_variance_ratio_)))"
   ]
  },
  {
   "cell_type": "code",
   "execution_count": 100,
   "metadata": {},
   "outputs": [],
   "source": [
    "# visualize hidden featurs on first two PCA components\n",
    "# this plot only shows B-tags\n",
    "def visualize_hidden_features(pca_result):\n",
    "    color=['r', 'C1', 'y', 'C3', 'b', 'g', 'm', 'orange']\n",
    "    category = np.argmax(y_te, axis=1)\n",
    "    fig, ax = plt.subplots()\n",
    "    fig.set_size_inches(6,6)    \n",
    "    for cat in range(8):\n",
    "        indices_B = np.where(category==cat)[0]\n",
    "        #length=min(1000,len(indices_B))\n",
    "        #indices_B=indices_B[:length]\n",
    "        ax.scatter(pca_result[indices_B,0], pca_result[indices_B, 1], label=idx2tag[cat],s=2,color=color[cat],alpha=0.5)\n",
    "        legend=ax.legend(markerscale=3)\n",
    "        legend.get_frame().set_facecolor('w')  \n",
    "    plt.show()"
   ]
  },
  {
   "cell_type": "code",
   "execution_count": 361,
   "metadata": {},
   "outputs": [
    {
     "data": {
      "image/png": "[encoded data removed]",
      "text/plain": [
       "<Figure size 432x432 with 1 Axes>"
      ]
     },
     "metadata": {
      "needs_background": "light"
     },
     "output_type": "display_data"
    }
   ],
   "source": [
    "visualize_hidden_features(pca_result)"
   ]
  },
  {
   "cell_type": "markdown",
   "metadata": {},
   "source": [
    "<div class=\"alert alert-block alert-info\">\n",
    "\n",
    "(1) An embeddding layer is a transformation from one subspace to a denser subspace. In this example, the embeded layer takes an input of size 'max_len' by 'n_words' to an output of 'max_len' by 'dim_embed.\n",
    "\n",
    "<br><br>\n",
    "\n",
    "(2) The embeddding layer is essental a transformation matrix of size 'n_words' by 'dim_embed'; this matrix has 35179*50=1758950 elements, which are the wights (or parameters) tp  learn.\n",
    "\n",
    "</div>"
   ]
  },
  {
   "cell_type": "markdown",
   "metadata": {},
   "source": [
    "### Model 3: RNN ###\n",
    "<span class='sub-q'>**Question 2.3**</span>\n",
    "\n",
    "(1) Set up a simple RNN model by stacking the following layers in sequence:\n",
    "* an input layer\n",
    "* a simple Embedding layer transforming integer words into vectors \n",
    "* a dropout layer to regularize the model\n",
    "* a SimpleRNN layer \n",
    "* a TimeDistributed layer with an inner Dense layer which output dimensionality is equal to n_tag\n",
    "\n",
    "(2) Compile the model\n",
    "\n",
    "(3) Train the model and plot the training history\n",
    "\n",
    "(4) Visualize outputs from SimpleRNN layer, one subplot for **B-tags** and one subplot for **I-tags**,comment on the patterns you observed.\n",
    "\n",
    "For hyperparameters use those provided in Model 2"
   ]
  },
  {
   "cell_type": "markdown",
   "metadata": {},
   "source": [
    "<div class='explication'> </div>"
   ]
  },
  {
   "cell_type": "code",
   "execution_count": 103,
   "metadata": {},
   "outputs": [],
   "source": [
    "# y_te = y_train"
   ]
  },
  {
   "cell_type": "code",
   "execution_count": 83,
   "metadata": {},
   "outputs": [
    {
     "name": "stdout",
     "output_type": "stream",
     "text": [
      "_________________________________________________________________\n",
      "Layer (type)                 Output Shape              Param #   \n",
      "=================================================================\n",
      "embedding_21 (Embedding)     (None, 104, 50)           1758950   \n",
      "_________________________________________________________________\n",
      "dropout_12 (Dropout)         (None, 104, 50)           0         \n",
      "_________________________________________________________________\n",
      "simple_rnn_5 (SimpleRNN)     (None, 104, 100)          15100     \n",
      "_________________________________________________________________\n",
      "time_distributed_12 (TimeDis (None, 104, 18)           1818      \n",
      "=================================================================\n",
      "Total params: 1,775,868\n",
      "Trainable params: 1,775,868\n",
      "Non-trainable params: 0\n",
      "_________________________________________________________________\n",
      "None\n",
      "Train on 34530 samples, validate on 8633 samples\n",
      "Epoch 1/15\n",
      "34530/34530 [==============================] - 82s 2ms/step - loss: 0.1420 - acc: 0.9662 - val_loss: 0.0399 - val_acc: 0.9898\n",
      "Epoch 2/15\n",
      "34530/34530 [==============================] - 80s 2ms/step - loss: 0.0298 - acc: 0.9917 - val_loss: 0.0289 - val_acc: 0.9915\n",
      "Epoch 3/15\n",
      "34530/34530 [==============================] - 81s 2ms/step - loss: 0.0212 - acc: 0.9935 - val_loss: 0.0277 - val_acc: 0.9917\n",
      "Epoch 4/15\n",
      "34530/34530 [==============================] - 81s 2ms/step - loss: 0.0174 - acc: 0.9944 - val_loss: 0.0281 - val_acc: 0.9917\n",
      "Epoch 5/15\n",
      "34530/34530 [==============================] - 81s 2ms/step - loss: 0.0148 - acc: 0.9951 - val_loss: 0.0296 - val_acc: 0.9913\n",
      "4796/4796 [==============================] - 5s 1ms/step\n",
      "Accuracy: 99.15%\n"
     ]
    }
   ],
   "source": [
    "simple_rnn = Sequential()\n",
    "simple_rnn.add(Embedding(n_words, dim_embed, input_length=max_len))\n",
    "simple_rnn.add(Dropout(drop_rate))\n",
    "simple_rnn.add(SimpleRNN(n_units, return_sequences=True))\n",
    "simple_rnn.add(TimeDistributed(Dense(n_tags, activation='softmax')))\n",
    "simple_rnn.compile(loss='categorical_crossentropy', optimizer='adam', metrics=['accuracy'])\n",
    "print(simple_rnn.summary())\n",
    "\n",
    "# Train model\n",
    "callbacks = [EarlyStopping(monitor='val_loss', patience=2)]\n",
    "simple_rnn_history = simple_rnn.fit(X_train, Y_train, callbacks=callbacks, \n",
    "                                    batch_size=batch_size, epochs=15, \n",
    "                    validation_split=validation_split, verbose=verbose)\n",
    "# Final evaluation of the model\n",
    "scores_simple_rnn = simple_rnn.evaluate(X_test, Y_test, verbose=verbose)\n",
    "print(\"Accuracy: %.2f%%\" % (scores_simple_rnn[1]*100))"
   ]
  },
  {
   "cell_type": "code",
   "execution_count": 88,
   "metadata": {},
   "outputs": [],
   "source": [
    "# save your mode ##\n",
    "simple_rnn.save('simple_rnn')"
   ]
  },
  {
   "cell_type": "code",
   "execution_count": 87,
   "metadata": {},
   "outputs": [
    {
     "data": {
      "image/png": "[encoded data removed]",
      "text/plain": [
       "<Figure size 432x288 with 1 Axes>"
      ]
     },
     "metadata": {
      "needs_background": "light"
     },
     "output_type": "display_data"
    }
   ],
   "source": [
    "# run this cell to show your results #\n",
    "plot_training_history(simple_rnn_history)"
   ]
  },
  {
   "cell_type": "code",
   "execution_count": 94,
   "metadata": {},
   "outputs": [],
   "source": [
    "def create_truncated_RNN(trained_model):\n",
    "    model=Sequential()\n",
    "    model.add(Embedding(input_dim=n_words, output_dim=dim_embed, input_length=max_len))\n",
    "    model.add(Dropout(drop_rate))\n",
    "    # set weights of first few layers using the weights of trained model\n",
    "    for i, layer in enumerate(model.layers):\n",
    "        layer.set_weights(trained_model.layers[i].get_weights())\n",
    "    model.compile(optimizer='adam', loss=loss, metrics=metrics)\n",
    "    return model"
   ]
  },
  {
   "cell_type": "code",
   "execution_count": 95,
   "metadata": {},
   "outputs": [],
   "source": [
    "truncated_rnn = create_truncated_RNN(simple_rnn)"
   ]
  },
  {
   "cell_type": "code",
   "execution_count": 96,
   "metadata": {},
   "outputs": [],
   "source": [
    "hidden_features_srnn = truncated_rnn.predict(X_train)"
   ]
  },
  {
   "cell_type": "code",
   "execution_count": 97,
   "metadata": {},
   "outputs": [],
   "source": [
    "hidden_features_srnn = hidden_features_srnn.reshape(-1,50)"
   ]
  },
  {
   "cell_type": "code",
   "execution_count": 98,
   "metadata": {},
   "outputs": [
    {
     "name": "stdout",
     "output_type": "stream",
     "text": [
      "Variance explained by PCA: 0.7948452721029701\n"
     ]
    }
   ],
   "source": [
    "# find first two PCA components\n",
    "pca = PCA(n_components=2)\n",
    "pca_result = pca.fit_transform(hidden_features_srnn)\n",
    "print('Variance explained by PCA: {}'.format(np.sum(pca.explained_variance_ratio_)))"
   ]
  },
  {
   "cell_type": "code",
   "execution_count": 123,
   "metadata": {},
   "outputs": [
    {
     "data": {
      "image/png": "[encoded data removed]",
      "text/plain": [
       "<Figure size 432x432 with 1 Axes>"
      ]
     },
     "metadata": {
      "needs_background": "light"
     },
     "output_type": "display_data"
    }
   ],
   "source": [
    "visualize_hidden_features(pca_result)"
   ]
  },
  {
   "cell_type": "markdown",
   "metadata": {},
   "source": [
    "<div class='explication'> </div>"
   ]
  },
  {
   "cell_type": "code",
   "execution_count": 54,
   "metadata": {},
   "outputs": [],
   "source": [
    "# visualize hidden featurs on first two PCA components\n",
    "# this plot only shows B-tags\n",
    "def visualize_hidden_features_i(pca_result):\n",
    "    color=['r', 'C1', 'y', 'C3', 'b', 'g', 'm', 'orange']\n",
    "    category = np.argmax(y_te, axis=1)\n",
    "    fig, ax = plt.subplots()\n",
    "    fig.set_size_inches(6,6)    \n",
    "    for i,cat in enumerate(range(8,7+8+1)):\n",
    "        indices_I = np.where(category==cat)[0]\n",
    "        #length=min(1000,len(indices_B))\n",
    "        #indices_B=indices_B[:length]\n",
    "        ax.scatter(pca_result[indices_I,0], pca_result[indices_I, 1], label=idx2tag[cat],s=2,color=color[i],alpha=0.5)\n",
    "        legend=ax.legend(markerscale=3)\n",
    "        legend.get_frame().set_facecolor('w')  \n",
    "    plt.show()"
   ]
  },
  {
   "cell_type": "code",
   "execution_count": 125,
   "metadata": {},
   "outputs": [
    {
     "data": {
      "image/png": "[encoded data removed]",
      "text/plain": [
       "<Figure size 432x432 with 1 Axes>"
      ]
     },
     "metadata": {
      "needs_background": "light"
     },
     "output_type": "display_data"
    }
   ],
   "source": [
    "visualize_hidden_features_i(pca_result)"
   ]
  },
  {
   "cell_type": "markdown",
   "metadata": {},
   "source": [
    "### Model 4: GRU ###\n",
    "\n",
    "<span class='sub-q'>**Question 2.4**</span>\n",
    "\n",
    "\n",
    "(1) Briefly explain what is GRU and how it is different from simple RNN\n",
    "\n",
    "(2) build a GRU architecture by replacing the SimpleRNN cell with a GRU one. \n",
    "\n",
    "(3) Compile the model\n",
    "\n",
    "(4) Train the model and plot the training history\n",
    "\n",
    "(5) Visualize outputs from GRU layer, one subplot for **B-tags** and one subplot for **I-tags**, comment on the patterns you observed."
   ]
  },
  {
   "cell_type": "markdown",
   "metadata": {},
   "source": [
    "<div class='explication'> </div>"
   ]
  },
  {
   "cell_type": "markdown",
   "metadata": {},
   "source": [
    "<div class=\"alert alert-block alert-info\">\n",
    "\n",
    "GRU is a more sophisticated implementation of RNN and a a variant of LSTM which is essentially  built on what we call gates which are themselves composed of an input and forget gates. These gates esstentially provide the model with memory through their update. \n",
    "\n",
    "</div>"
   ]
  },
  {
   "cell_type": "code",
   "execution_count": 112,
   "metadata": {},
   "outputs": [
    {
     "name": "stdout",
     "output_type": "stream",
     "text": [
      "_________________________________________________________________\n",
      "Layer (type)                 Output Shape              Param #   \n",
      "=================================================================\n",
      "embedding_26 (Embedding)     (None, 104, 50)           1758950   \n",
      "_________________________________________________________________\n",
      "dropout_17 (Dropout)         (None, 104, 50)           0         \n",
      "_________________________________________________________________\n",
      "gru_13 (GRU)                 (None, 104, 100)          45300     \n",
      "_________________________________________________________________\n",
      "time_distributed_14 (TimeDis (None, 104, 18)           1818      \n",
      "=================================================================\n",
      "Total params: 1,806,068\n",
      "Trainable params: 1,806,068\n",
      "Non-trainable params: 0\n",
      "_________________________________________________________________\n",
      "None\n",
      "Train on 38846 samples, validate on 4317 samples\n",
      "Epoch 1/3\n",
      "38846/38846 [==============================] - 178s 5ms/step - loss: 0.1522 - acc: 0.9672 - val_loss: 0.0390 - val_acc: 0.9901\n",
      "Epoch 2/3\n",
      "38846/38846 [==============================] - 176s 5ms/step - loss: 0.0298 - acc: 0.9917 - val_loss: 0.0287 - val_acc: 0.9915\n",
      "Epoch 3/3\n",
      "38846/38846 [==============================] - 176s 5ms/step - loss: 0.0219 - acc: 0.9933 - val_loss: 0.0272 - val_acc: 0.9919\n",
      "4796/4796 [==============================] - 9s 2ms/step\n",
      "Accuracy: 99.19%\n"
     ]
    }
   ],
   "source": [
    "gru_rnn = Sequential()\n",
    "gru_rnn.add(Embedding(n_words, dim_embed, input_length=max_len))\n",
    "gru_rnn.add(Dropout(drop_rate))\n",
    "gru_rnn.add(GRU(n_units, return_sequences=True))\n",
    "gru_rnn.add(TimeDistributed(Dense(n_tags, activation='softmax')))\n",
    "gru_rnn.compile(loss='categorical_crossentropy', optimizer='adam', metrics=['accuracy'])\n",
    "print(gru_rnn.summary())\n",
    "\n",
    "# Train model\n",
    "callbacks = [EarlyStopping(monitor='val_loss', patience=2)]\n",
    "gru_rnn_history = gru_rnn.fit(X_train, Y_train, callbacks=callbacks,\n",
    "                              batch_size=batch_size, epochs=3, \n",
    "                    validation_split=validation_split, verbose=verbose)\n",
    "\n",
    "# Final evaluation of the model\n",
    "scores_gru_rnn = gru_rnn.evaluate(X_test, Y_test, verbose=verbose)\n",
    "print(\"Accuracy: %.2f%%\" % (scores_gru_rnn[1]*100))"
   ]
  },
  {
   "cell_type": "code",
   "execution_count": 114,
   "metadata": {},
   "outputs": [],
   "source": [
    "gru_rnn.save('gru_rnn')"
   ]
  },
  {
   "cell_type": "code",
   "execution_count": 113,
   "metadata": {},
   "outputs": [
    {
     "data": {
      "image/png": "[encoded data removed]",
      "text/plain": [
       "<Figure size 432x288 with 1 Axes>"
      ]
     },
     "metadata": {
      "needs_background": "light"
     },
     "output_type": "display_data"
    }
   ],
   "source": [
    "plot_training_history(gru_rnn_history)"
   ]
  },
  {
   "cell_type": "code",
   "execution_count": 115,
   "metadata": {},
   "outputs": [],
   "source": [
    "def create_truncated_GRU(trained_model):\n",
    "    model=Sequential()\n",
    "    model.add(Embedding(input_dim=n_words, output_dim=dim_embed, input_length=max_len))\n",
    "    model.add(Dropout(drop_rate))\n",
    "    # set weights of first few layers using the weights of trained model\n",
    "    for i, layer in enumerate(model.layers):\n",
    "        layer.set_weights(trained_model.layers[i].get_weights())\n",
    "    model.compile(optimizer=optimizer, loss=loss, metrics=metrics)\n",
    "    return model"
   ]
  },
  {
   "cell_type": "code",
   "execution_count": 116,
   "metadata": {},
   "outputs": [
    {
     "name": "stdout",
     "output_type": "stream",
     "text": [
      "Variance explained by PCA: 0.7980289015607513\n"
     ]
    }
   ],
   "source": [
    "truncated_gru = create_truncated_GRU(gru_rnn)\n",
    "hidden_features_gru = truncated_gru.predict(X_train)\n",
    "hidden_features_gru = hidden_features_gru.reshape(-1,50)\n",
    "# find first two PCA components\n",
    "pca = PCA(n_components=2)\n",
    "pca_result_gru = pca.fit_transform(hidden_features_gru)\n",
    "print('Variance explained by PCA: {}'.format(np.sum(pca.explained_variance_ratio_)))"
   ]
  },
  {
   "cell_type": "markdown",
   "metadata": {},
   "source": [
    "For the B tages:"
   ]
  },
  {
   "cell_type": "code",
   "execution_count": 52,
   "metadata": {},
   "outputs": [
    {
     "data": {
      "image/png": "[encoded data removed]",
      "text/plain": [
       "<Figure size 432x432 with 1 Axes>"
      ]
     },
     "metadata": {
      "needs_background": "light"
     },
     "output_type": "display_data"
    }
   ],
   "source": [
    "visualize_hidden_features(pca_result_gru)"
   ]
  },
  {
   "cell_type": "markdown",
   "metadata": {},
   "source": [
    "For the I tags:"
   ]
  },
  {
   "cell_type": "code",
   "execution_count": 55,
   "metadata": {},
   "outputs": [
    {
     "data": {
      "image/png": "[encoded data removed]",
      "text/plain": [
       "<Figure size 432x432 with 1 Axes>"
      ]
     },
     "metadata": {
      "needs_background": "light"
     },
     "output_type": "display_data"
    }
   ],
   "source": [
    "visualize_hidden_features_i(pca_result_gru)"
   ]
  },
  {
   "cell_type": "markdown",
   "metadata": {},
   "source": [
    "### Model 5: Bidirectional GRU ###\n",
    "<span class='sub-q'>**Question 2.5**</span>\n",
    "\n",
    "\n",
    "(1) Explain what is Bidirectional GRU and how it is different from GRU model above.\n",
    "\n",
    "(2) Then build a bidirectional GRU by wrapping your GRU layer into a Bidirectional one\n",
    "\n",
    "(3) Compile the model\n",
    "\n",
    "(4) Train the model and plot the training history\n",
    "\n",
    "(5) Visualize outputs from bidirectional GRU layer, one subplot for **B-tags** and one subplot for **I-tags**, comment on the patterns you observed."
   ]
  },
  {
   "cell_type": "markdown",
   "metadata": {},
   "source": [
    "<div class='explication'> </div>"
   ]
  },
  {
   "cell_type": "markdown",
   "metadata": {},
   "source": [
    "<div class=\"alert alert-block alert-info\">\n",
    "\n",
    "A bidirectional GRU is just like the previous (forward directional) GRU with the modification that the sequences of values is analyzed from the end to the start in addition to being analyzed from the start to the end. \n",
    "\n",
    "</div>"
   ]
  },
  {
   "cell_type": "code",
   "execution_count": null,
   "metadata": {},
   "outputs": [],
   "source": [
    "bi_gru_rnn = Sequential()\n",
    "bi_gru_rnn.add(Embedding(n_words, dim_embed, input_length=max_len))\n",
    "bi_gru_rnn.add(Dropout(drop_rate))\n",
    "bi_gru_rnn.add(Bidirectional(GRU(n_units, return_sequences=True)))\n",
    "bi_gru_rnn.add(TimeDistributed(Dense(n_tags, activation='softmax')))\n",
    "bi_gru_rnn.compile(loss='categorical_crossentropy', optimizer='adam', metrics=['accuracy'])\n",
    "print(bi_gru_rnn.summary())\n",
    "\n",
    "# Train model\n",
    "callbacks = [EarlyStopping(monitor='val_loss', patience=2)]\n",
    "bi_gru_rnn_history = bi_gru_rnn.fit(X_train, Y_train, callbacks=callbacks, \n",
    "                                    batch_size=batch_size, epochs=3, \n",
    "                    validation_split=validation_split, verbose=verbose)\n",
    "\n",
    "\n",
    "# Final evaluation of the model\n",
    "scores_bi_gru_rnn = bi_gru_rnn.evaluate(X_test, Y_test, verbose=verbose)\n",
    "print(\"Accuracy: %.2f%%\" % (scores_bi_gru_rnn[1]*100))"
   ]
  },
  {
   "cell_type": "code",
   "execution_count": 58,
   "metadata": {},
   "outputs": [
    {
     "name": "stdout",
     "output_type": "stream",
     "text": [
      "Saved model to disk\n"
     ]
    }
   ],
   "source": [
    "# save your model #\n",
    "bi_gru_rnn.save('bi_gru_rnn')"
   ]
  },
  {
   "cell_type": "code",
   "execution_count": 59,
   "metadata": {},
   "outputs": [
    {
     "data": {
      "image/png": "[encoded data removed]",
      "text/plain": [
       "<Figure size 432x288 with 1 Axes>"
      ]
     },
     "metadata": {
      "needs_background": "light"
     },
     "output_type": "display_data"
    }
   ],
   "source": [
    "# run this cell to show your results #\n",
    "plot_training_history(bi_gru_rnn_history)"
   ]
  },
  {
   "cell_type": "code",
   "execution_count": 60,
   "metadata": {},
   "outputs": [
    {
     "name": "stdout",
     "output_type": "stream",
     "text": [
      "Variance explained by PCA: 0.7846508777640635\n"
     ]
    }
   ],
   "source": [
    "truncated_gru_bi = create_truncated_GRU(bi_gru_rnn)\n",
    "hidden_features_gru_bi = truncated_gru_bi.predict(X_train)\n",
    "hidden_features_gru_bi = hidden_features_gru_bi.reshape(-1,50)\n",
    "# find first two PCA components\n",
    "pca = PCA(n_components=2)\n",
    "pca_result_gru_bi = pca.fit_transform(hidden_features_gru_bi)\n",
    "print('Variance explained by PCA: {}'.format(np.sum(pca.explained_variance_ratio_)))"
   ]
  },
  {
   "cell_type": "code",
   "execution_count": 61,
   "metadata": {},
   "outputs": [
    {
     "data": {
      "image/png": "[encoded data removed]",
      "text/plain": [
       "<Figure size 432x432 with 1 Axes>"
      ]
     },
     "metadata": {
      "needs_background": "light"
     },
     "output_type": "display_data"
    }
   ],
   "source": [
    "visualize_hidden_features(pca_result_gru_bi)"
   ]
  },
  {
   "cell_type": "code",
   "execution_count": 62,
   "metadata": {},
   "outputs": [
    {
     "data": {
      "image/png": "[encoded data removed]",
      "text/plain": [
       "<Figure size 432x432 with 1 Axes>"
      ]
     },
     "metadata": {
      "needs_background": "light"
     },
     "output_type": "display_data"
    }
   ],
   "source": [
    "visualize_hidden_features_i(pca_result_gru_bi)"
   ]
  },
  {
   "cell_type": "code",
   "execution_count": 63,
   "metadata": {},
   "outputs": [],
   "source": [
    "simple_rnn.save('simple_rnn.h5')"
   ]
  },
  {
   "cell_type": "code",
   "execution_count": 66,
   "metadata": {},
   "outputs": [],
   "source": [
    "gru_rnn.save('gru.h5')"
   ]
  },
  {
   "cell_type": "code",
   "execution_count": 65,
   "metadata": {},
   "outputs": [],
   "source": [
    "bi_gru_rnn.save('bi_gru_rnn.h5')"
   ]
  },
  {
   "cell_type": "code",
   "execution_count": 70,
   "metadata": {},
   "outputs": [],
   "source": [
    "FFNN=load_keras_model('model_FFNN')"
   ]
  },
  {
   "cell_type": "markdown",
   "metadata": {},
   "source": [
    "<div class='exercise'><b> Question 3: Analysis [40pt]</b></div>\n"
   ]
  },
  {
   "cell_type": "markdown",
   "metadata": {},
   "source": [
    "<span class='sub-q'>**Question 3.1**</span>\n",
    "\n",
    "\n",
    "For each model iteratively:\n",
    "\n",
    "(1) Load the model using the given function ```load_keras_model```\n",
    "\n",
    "(2) Apply the model to the test dataset\n",
    "\n",
    "(3) Compute an F1 score for each ```Tag``` and store it \n",
    "\n",
    "(4) Plot the F1 score per Tag and per model making use of a grouped barplot.\n",
    "\n",
    "(5) Briefly discuss the performance of each model"
   ]
  },
  {
   "cell_type": "code",
   "execution_count": 226,
   "metadata": {},
   "outputs": [],
   "source": [
    "base_preds = np.zeros((X_test.shape[0], max_len))-1 \n",
    "for i in range(base_preds.shape[0]):\n",
    "    base_preds[i,:] = baseline[X_test[i,:]]"
   ]
  },
  {
   "cell_type": "code",
   "execution_count": 67,
   "metadata": {},
   "outputs": [],
   "source": [
    "fnn_preds = FFNN.predict(X_test)\n",
    "rnn_preds = simple_rnn.predict(X_test)\n",
    "gru_preds = gru_rnn.predict(X_test)\n",
    "bi_gru_preds = bi_gru_rnn.predict(X_test)"
   ]
  },
  {
   "cell_type": "code",
   "execution_count": 260,
   "metadata": {},
   "outputs": [],
   "source": [
    "np.save('base_preds', base_preds)\n",
    "np.save('fnn_preds', fnn_preds)\n",
    "np.save('rnn_preds', rnn_preds)\n",
    "np.save('gru_preds', gru_preds)\n",
    "np.save('bi_gru_preds', bi_gru_preds)"
   ]
  },
  {
   "cell_type": "code",
   "execution_count": 240,
   "metadata": {},
   "outputs": [],
   "source": [
    "fnn_preds = base_preds.argmax(-1)\n",
    "rnn_preds = simple_rnn.predict(X_test).argmax(-1)\n",
    "gru_preds = gru_rnn.predict(X_test).argmax(-1)\n",
    "bi_gru_preds = bi_gru_rnn.predict(X_test).argmax(-1)"
   ]
  },
  {
   "cell_type": "code",
   "execution_count": 43,
   "metadata": {},
   "outputs": [],
   "source": [
    "def f1(true, pred, i):\n",
    "    # true positive \n",
    "    tp = np.sum(pred[np.where(true==i)] == i)\n",
    "    \n",
    "    # 0\n",
    "    if tp == 0:\n",
    "        return(0)\n",
    "    \n",
    "    # false negative \n",
    "    fn = np.sum(pred[np.where(true==i)] != i)\n",
    "    # false positive \n",
    "    fp = np.sum((true[np.where(pred==i)] != i))\n",
    "    # true negative\n",
    "    tn = np.sum((pred[np.where(true!=i)] != i))\n",
    "    \n",
    "    # precision \n",
    "    prec = tp/(tp+fp)\n",
    "    # recall\n",
    "    rec = tp/(tp+fn)\n",
    "    \n",
    "    # f1 score\n",
    "    f1 = 2*(prec*rec)/(prec+rec)\n",
    "    \n",
    "    return(f1)"
   ]
  },
  {
   "cell_type": "code",
   "execution_count": 313,
   "metadata": {},
   "outputs": [],
   "source": [
    "# number of models\n",
    "n_models = 5\n",
    "model_preds = {0: base_preds, 1: fnn_preds, 2: rnn_preds, 3: gru_preds, 4: bi_gru_preds}\n",
    "model_names = {0: 'base_preds', 1: 'fnn_preds', 2: 'rnn_preds', 3: 'gru_preds', 4: 'bi_gru_preds'}\n",
    "Yt = Y_test.argmax(-1)"
   ]
  },
  {
   "cell_type": "code",
   "execution_count": 314,
   "metadata": {},
   "outputs": [],
   "source": [
    "scores = np.zeros((n_models, n_tags))-1\n",
    "for model in range(n_models):\n",
    "    for tag in range(n_tags):\n",
    "        scores[model, tag] = f1(Yt, model_preds[model], tag)"
   ]
  },
  {
   "cell_type": "code",
   "execution_count": 316,
   "metadata": {},
   "outputs": [],
   "source": [
    "scores_df = pd.DataFrame(data= scores, columns=tags, r)\n",
    "scores_df.index = list(model_names.values())"
   ]
  },
  {
   "cell_type": "code",
   "execution_count": 348,
   "metadata": {},
   "outputs": [
    {
     "data": {
      "text/html": [
       "<div>\n",
       "<style scoped>\n",
       "    .dataframe tbody tr th:only-of-type {\n",
       "        vertical-align: middle;\n",
       "    }\n",
       "\n",
       "    .dataframe tbody tr th {\n",
       "        vertical-align: top;\n",
       "    }\n",
       "\n",
       "    .dataframe thead th {\n",
       "        text-align: right;\n",
       "    }\n",
       "</style>\n",
       "<table border=\"1\" class=\"dataframe\">\n",
       "  <thead>\n",
       "    <tr style=\"text-align: right;\">\n",
       "      <th></th>\n",
       "      <th>B-art</th>\n",
       "      <th>B-eve</th>\n",
       "      <th>B-geo</th>\n",
       "      <th>B-gpe</th>\n",
       "      <th>B-nat</th>\n",
       "      <th>B-org</th>\n",
       "      <th>B-per</th>\n",
       "      <th>B-tim</th>\n",
       "      <th>I-art</th>\n",
       "      <th>I-eve</th>\n",
       "      <th>I-geo</th>\n",
       "      <th>I-gpe</th>\n",
       "      <th>I-nat</th>\n",
       "      <th>I-org</th>\n",
       "      <th>I-per</th>\n",
       "      <th>I-tim</th>\n",
       "      <th>O</th>\n",
       "      <th>PAD</th>\n",
       "    </tr>\n",
       "  </thead>\n",
       "  <tbody>\n",
       "    <tr>\n",
       "      <th>base_preds</th>\n",
       "      <td>0.028032</td>\n",
       "      <td>0.301887</td>\n",
       "      <td>0.828180</td>\n",
       "      <td>0.932733</td>\n",
       "      <td>0.450000</td>\n",
       "      <td>0.603218</td>\n",
       "      <td>0.742892</td>\n",
       "      <td>0.817587</td>\n",
       "      <td>0.000000</td>\n",
       "      <td>0.312500</td>\n",
       "      <td>0.661041</td>\n",
       "      <td>0.444444</td>\n",
       "      <td>0.0</td>\n",
       "      <td>0.626156</td>\n",
       "      <td>0.711538</td>\n",
       "      <td>0.207171</td>\n",
       "      <td>0.983355</td>\n",
       "      <td>1.000000</td>\n",
       "    </tr>\n",
       "    <tr>\n",
       "      <th>fnn_preds</th>\n",
       "      <td>0.230769</td>\n",
       "      <td>0.333333</td>\n",
       "      <td>0.820000</td>\n",
       "      <td>0.918011</td>\n",
       "      <td>0.410256</td>\n",
       "      <td>0.601479</td>\n",
       "      <td>0.737833</td>\n",
       "      <td>0.797268</td>\n",
       "      <td>0.000000</td>\n",
       "      <td>0.285714</td>\n",
       "      <td>0.646314</td>\n",
       "      <td>0.461538</td>\n",
       "      <td>0.0</td>\n",
       "      <td>0.618735</td>\n",
       "      <td>0.746040</td>\n",
       "      <td>0.252207</td>\n",
       "      <td>0.984158</td>\n",
       "      <td>1.000000</td>\n",
       "    </tr>\n",
       "    <tr>\n",
       "      <th>rnn_preds</th>\n",
       "      <td>0.181818</td>\n",
       "      <td>0.372093</td>\n",
       "      <td>0.848831</td>\n",
       "      <td>0.936733</td>\n",
       "      <td>0.307692</td>\n",
       "      <td>0.666183</td>\n",
       "      <td>0.836222</td>\n",
       "      <td>0.858729</td>\n",
       "      <td>0.108108</td>\n",
       "      <td>0.129032</td>\n",
       "      <td>0.780253</td>\n",
       "      <td>0.560000</td>\n",
       "      <td>0.2</td>\n",
       "      <td>0.772589</td>\n",
       "      <td>0.869641</td>\n",
       "      <td>0.737949</td>\n",
       "      <td>0.987804</td>\n",
       "      <td>0.999987</td>\n",
       "    </tr>\n",
       "    <tr>\n",
       "      <th>gru_preds</th>\n",
       "      <td>0.000000</td>\n",
       "      <td>0.000000</td>\n",
       "      <td>0.843477</td>\n",
       "      <td>0.920065</td>\n",
       "      <td>0.000000</td>\n",
       "      <td>0.638957</td>\n",
       "      <td>0.787860</td>\n",
       "      <td>0.840878</td>\n",
       "      <td>0.000000</td>\n",
       "      <td>0.000000</td>\n",
       "      <td>0.731944</td>\n",
       "      <td>0.000000</td>\n",
       "      <td>0.0</td>\n",
       "      <td>0.726946</td>\n",
       "      <td>0.840941</td>\n",
       "      <td>0.689266</td>\n",
       "      <td>0.987929</td>\n",
       "      <td>0.999895</td>\n",
       "    </tr>\n",
       "    <tr>\n",
       "      <th>bi_gru_preds</th>\n",
       "      <td>0.000000</td>\n",
       "      <td>0.000000</td>\n",
       "      <td>0.865843</td>\n",
       "      <td>0.932943</td>\n",
       "      <td>0.000000</td>\n",
       "      <td>0.720911</td>\n",
       "      <td>0.831858</td>\n",
       "      <td>0.870657</td>\n",
       "      <td>0.000000</td>\n",
       "      <td>0.000000</td>\n",
       "      <td>0.778689</td>\n",
       "      <td>0.000000</td>\n",
       "      <td>0.0</td>\n",
       "      <td>0.777847</td>\n",
       "      <td>0.858982</td>\n",
       "      <td>0.732824</td>\n",
       "      <td>0.989068</td>\n",
       "      <td>0.999983</td>\n",
       "    </tr>\n",
       "  </tbody>\n",
       "</table>\n",
       "</div>"
      ],
      "text/plain": [
       "                 B-art     B-eve     B-geo     B-gpe     B-nat     B-org  \\\n",
       "base_preds    0.028032  0.301887  0.828180  0.932733  0.450000  0.603218   \n",
       "fnn_preds     0.230769  0.333333  0.820000  0.918011  0.410256  0.601479   \n",
       "rnn_preds     0.181818  0.372093  0.848831  0.936733  0.307692  0.666183   \n",
       "gru_preds     0.000000  0.000000  0.843477  0.920065  0.000000  0.638957   \n",
       "bi_gru_preds  0.000000  0.000000  0.865843  0.932943  0.000000  0.720911   \n",
       "\n",
       "                 B-per     B-tim     I-art     I-eve     I-geo     I-gpe  \\\n",
       "base_preds    0.742892  0.817587  0.000000  0.312500  0.661041  0.444444   \n",
       "fnn_preds     0.737833  0.797268  0.000000  0.285714  0.646314  0.461538   \n",
       "rnn_preds     0.836222  0.858729  0.108108  0.129032  0.780253  0.560000   \n",
       "gru_preds     0.787860  0.840878  0.000000  0.000000  0.731944  0.000000   \n",
       "bi_gru_preds  0.831858  0.870657  0.000000  0.000000  0.778689  0.000000   \n",
       "\n",
       "              I-nat     I-org     I-per     I-tim         O       PAD  \n",
       "base_preds      0.0  0.626156  0.711538  0.207171  0.983355  1.000000  \n",
       "fnn_preds       0.0  0.618735  0.746040  0.252207  0.984158  1.000000  \n",
       "rnn_preds       0.2  0.772589  0.869641  0.737949  0.987804  0.999987  \n",
       "gru_preds       0.0  0.726946  0.840941  0.689266  0.987929  0.999895  \n",
       "bi_gru_preds    0.0  0.777847  0.858982  0.732824  0.989068  0.999983  "
      ]
     },
     "metadata": {},
     "output_type": "display_data"
    }
   ],
   "source": [
    "display(scores_df)"
   ]
  },
  {
   "cell_type": "code",
   "execution_count": 356,
   "metadata": {},
   "outputs": [
    {
     "name": "stdout",
     "output_type": "stream",
     "text": [
      "Mean F1 Score across tags for each model\n",
      "[0.53615186 0.5468698  0.61964813 0.50045326 0.5199781 ]\n"
     ]
    }
   ],
   "source": [
    "print('Mean F1 Score across tags for each model')\n",
    "print(scores.mean(axis=1))"
   ]
  },
  {
   "cell_type": "code",
   "execution_count": 350,
   "metadata": {},
   "outputs": [
    {
     "data": {
      "image/png": "[encoded data removed]",
      "text/plain": [
       "<Figure size 1440x864 with 1 Axes>"
      ]
     },
     "metadata": {
      "needs_background": "light"
     },
     "output_type": "display_data"
    }
   ],
   "source": [
    "scores_df.T.plot(kind='bar', title ='F1 Scores of 5 Models', figsize=(20, 12), legend=True, fontsize=12);"
   ]
  },
  {
   "cell_type": "markdown",
   "metadata": {},
   "source": [
    "<div class=\"alert alert-block alert-info\">\n",
    "\n",
    "We see from the above plots that the simple RNN model performed the ebst across the board. For tags which most models were able to predict fairly well, we see that the F! scores are low across the board except for the simple RNN; the latter is the reason why the mean F1 score across the tags for the simple RNN is highest. \n",
    "\n",
    "</div>"
   ]
  },
  {
   "cell_type": "markdown",
   "metadata": {},
   "source": [
    "<span class='sub-q'>**Question 3.2**</span>\n",
    "\n",
    "(1) Which tags have the lowest f1 score? \n",
    "\n",
    "For instance, you may find from the plot above that the test accuracy on \"B-art\", and \"I-art\" are very low (just an example, your case maybe different). Here is an example when models failed to predict these tags right"
   ]
  },
  {
   "cell_type": "markdown",
   "metadata": {},
   "source": [
    "<img src=\"./data/B_art.png\" alt=\"drawing\" width=\"600\"/>\n"
   ]
  },
  {
   "cell_type": "markdown",
   "metadata": {},
   "source": [
    "(2) Write functions to output another example in which the tags of the lowest accuracy was predicted wrong in a sentence (include both \"B-xxx\" and \"I-xxx\" tags). Store the results in a DataFrame (same format as the above example) and use styling functions below to print out your df."
   ]
  },
  {
   "cell_type": "code",
   "execution_count": 430,
   "metadata": {},
   "outputs": [
    {
     "name": "stdout",
     "output_type": "stream",
     "text": [
      "['I-art', 'I-nat', 'B-art', 'I-eve', 'B-eve', 'B-nat', 'I-gpe', 'I-tim', 'B-org', 'I-org', 'I-geo', 'B-per', 'I-per', 'B-tim', 'B-geo', 'B-gpe', 'O', 'PAD']\n"
     ]
    }
   ],
   "source": [
    "sorted_tags = list(scores_df.columns[scores.mean(axis=0).argsort()])\n",
    "print(sorted_tags)"
   ]
  },
  {
   "cell_type": "markdown",
   "metadata": {},
   "source": [
    "<div class=\"alert alert-block alert-info\">\n",
    "\n",
    "We see that that the art tags for both the I and B tags are the worst classified. \n",
    "\n",
    "</div>"
   ]
  },
  {
   "cell_type": "code",
   "execution_count": 454,
   "metadata": {},
   "outputs": [
    {
     "name": "stdout",
     "output_type": "stream",
     "text": [
      "8 0\n"
     ]
    }
   ],
   "source": [
    "i_I = 0\n",
    "i_B = 2\n",
    "iI, iB = tag2idx[sorted_tags[i_I]], tag2idx[sorted_tags[i_B]]\n",
    "print(iI, iB)"
   ]
  },
  {
   "cell_type": "code",
   "execution_count": 523,
   "metadata": {},
   "outputs": [],
   "source": [
    "np.random.seed(1234)\n",
    "s = np.random.choice(np.where(Yt == iI)[0])\n",
    "end = list(map(idx2word.get, X[s])).index('ENDPAD')-1"
   ]
  },
  {
   "cell_type": "code",
   "execution_count": 524,
   "metadata": {},
   "outputs": [
    {
     "name": "stdout",
     "output_type": "stream",
     "text": [
      "['Word', 'y_true', 'base_preds', 'fnn_preds', 'rnn_preds', 'gru_preds', 'bi_gru_preds']\n"
     ]
    }
   ],
   "source": [
    "cols = ['Word', 'y_true'] + list(model_names.values())\n",
    "print(cols)"
   ]
  },
  {
   "cell_type": "code",
   "execution_count": 525,
   "metadata": {},
   "outputs": [],
   "source": [
    "N = n_models+2 # +2 for word and y_true column\n",
    "missc = np.zeros((end, N))\n",
    "df = pd.DataFrame(data=missc, columns=cols)\n",
    "# word \n",
    "df.iloc[:,0] = list(map(idx2word.get, X[s,:end]))\n",
    "# y_true \n",
    "df.iloc[:,1] = list(map(idx2tag.get, Yt[s, :end]))\n",
    "# models\n",
    "for model,i in enumerate(range(2,N)):\n",
    "    df.iloc[:,i] = list(map(idx2tag.get, model_preds[model][s,:end]))"
   ]
  },
  {
   "cell_type": "code",
   "execution_count": 526,
   "metadata": {},
   "outputs": [],
   "source": [
    "def highlight_errors(s):\n",
    "    is_max = s == s.y_true\n",
    "    return ['' if v or key=='Word' else 'color: red' for key,v in is_max.iteritems()]"
   ]
  },
  {
   "cell_type": "code",
   "execution_count": 527,
   "metadata": {},
   "outputs": [
    {
     "data": {
      "text/html": [
       "<style  type=\"text/css\" >\n",
       "    #T_1d440b0c_4679_11e9_8189_0122dc60dcbarow4_col2 {\n",
       "            color:  red;\n",
       "        }    #T_1d440b0c_4679_11e9_8189_0122dc60dcbarow4_col3 {\n",
       "            color:  red;\n",
       "        }    #T_1d440b0c_4679_11e9_8189_0122dc60dcbarow4_col4 {\n",
       "            color:  red;\n",
       "        }    #T_1d440b0c_4679_11e9_8189_0122dc60dcbarow4_col5 {\n",
       "            color:  red;\n",
       "        }    #T_1d440b0c_4679_11e9_8189_0122dc60dcbarow4_col6 {\n",
       "            color:  red;\n",
       "        }    #T_1d440b0c_4679_11e9_8189_0122dc60dcbarow5_col2 {\n",
       "            color:  red;\n",
       "        }    #T_1d440b0c_4679_11e9_8189_0122dc60dcbarow5_col3 {\n",
       "            color:  red;\n",
       "        }    #T_1d440b0c_4679_11e9_8189_0122dc60dcbarow5_col4 {\n",
       "            color:  red;\n",
       "        }    #T_1d440b0c_4679_11e9_8189_0122dc60dcbarow5_col5 {\n",
       "            color:  red;\n",
       "        }    #T_1d440b0c_4679_11e9_8189_0122dc60dcbarow5_col6 {\n",
       "            color:  red;\n",
       "        }    #T_1d440b0c_4679_11e9_8189_0122dc60dcbarow8_col2 {\n",
       "            color:  red;\n",
       "        }    #T_1d440b0c_4679_11e9_8189_0122dc60dcbarow8_col3 {\n",
       "            color:  red;\n",
       "        }</style>  \n",
       "<table id=\"T_1d440b0c_4679_11e9_8189_0122dc60dcba\" > \n",
       "<thead>    <tr> \n",
       "        <th class=\"blank level0\" ></th> \n",
       "        <th class=\"col_heading level0 col0\" >Word</th> \n",
       "        <th class=\"col_heading level0 col1\" >y_true</th> \n",
       "        <th class=\"col_heading level0 col2\" >base_preds</th> \n",
       "        <th class=\"col_heading level0 col3\" >fnn_preds</th> \n",
       "        <th class=\"col_heading level0 col4\" >rnn_preds</th> \n",
       "        <th class=\"col_heading level0 col5\" >gru_preds</th> \n",
       "        <th class=\"col_heading level0 col6\" >bi_gru_preds</th> \n",
       "    </tr></thead> \n",
       "<tbody>    <tr> \n",
       "        <th id=\"T_1d440b0c_4679_11e9_8189_0122dc60dcbalevel0_row0\" class=\"row_heading level0 row0\" >0</th> \n",
       "        <td id=\"T_1d440b0c_4679_11e9_8189_0122dc60dcbarow0_col0\" class=\"data row0 col0\" >Security</td> \n",
       "        <td id=\"T_1d440b0c_4679_11e9_8189_0122dc60dcbarow0_col1\" class=\"data row0 col1\" >O</td> \n",
       "        <td id=\"T_1d440b0c_4679_11e9_8189_0122dc60dcbarow0_col2\" class=\"data row0 col2\" >O</td> \n",
       "        <td id=\"T_1d440b0c_4679_11e9_8189_0122dc60dcbarow0_col3\" class=\"data row0 col3\" >O</td> \n",
       "        <td id=\"T_1d440b0c_4679_11e9_8189_0122dc60dcbarow0_col4\" class=\"data row0 col4\" >O</td> \n",
       "        <td id=\"T_1d440b0c_4679_11e9_8189_0122dc60dcbarow0_col5\" class=\"data row0 col5\" >O</td> \n",
       "        <td id=\"T_1d440b0c_4679_11e9_8189_0122dc60dcbarow0_col6\" class=\"data row0 col6\" >O</td> \n",
       "    </tr>    <tr> \n",
       "        <th id=\"T_1d440b0c_4679_11e9_8189_0122dc60dcbalevel0_row1\" class=\"row_heading level0 row1\" >1</th> \n",
       "        <td id=\"T_1d440b0c_4679_11e9_8189_0122dc60dcbarow1_col0\" class=\"data row1 col0\" >officials</td> \n",
       "        <td id=\"T_1d440b0c_4679_11e9_8189_0122dc60dcbarow1_col1\" class=\"data row1 col1\" >O</td> \n",
       "        <td id=\"T_1d440b0c_4679_11e9_8189_0122dc60dcbarow1_col2\" class=\"data row1 col2\" >O</td> \n",
       "        <td id=\"T_1d440b0c_4679_11e9_8189_0122dc60dcbarow1_col3\" class=\"data row1 col3\" >O</td> \n",
       "        <td id=\"T_1d440b0c_4679_11e9_8189_0122dc60dcbarow1_col4\" class=\"data row1 col4\" >O</td> \n",
       "        <td id=\"T_1d440b0c_4679_11e9_8189_0122dc60dcbarow1_col5\" class=\"data row1 col5\" >O</td> \n",
       "        <td id=\"T_1d440b0c_4679_11e9_8189_0122dc60dcbarow1_col6\" class=\"data row1 col6\" >O</td> \n",
       "    </tr>    <tr> \n",
       "        <th id=\"T_1d440b0c_4679_11e9_8189_0122dc60dcbalevel0_row2\" class=\"row_heading level0 row2\" >2</th> \n",
       "        <td id=\"T_1d440b0c_4679_11e9_8189_0122dc60dcbarow2_col0\" class=\"data row2 col0\" >in</td> \n",
       "        <td id=\"T_1d440b0c_4679_11e9_8189_0122dc60dcbarow2_col1\" class=\"data row2 col1\" >O</td> \n",
       "        <td id=\"T_1d440b0c_4679_11e9_8189_0122dc60dcbarow2_col2\" class=\"data row2 col2\" >O</td> \n",
       "        <td id=\"T_1d440b0c_4679_11e9_8189_0122dc60dcbarow2_col3\" class=\"data row2 col3\" >O</td> \n",
       "        <td id=\"T_1d440b0c_4679_11e9_8189_0122dc60dcbarow2_col4\" class=\"data row2 col4\" >O</td> \n",
       "        <td id=\"T_1d440b0c_4679_11e9_8189_0122dc60dcbarow2_col5\" class=\"data row2 col5\" >O</td> \n",
       "        <td id=\"T_1d440b0c_4679_11e9_8189_0122dc60dcbarow2_col6\" class=\"data row2 col6\" >O</td> \n",
       "    </tr>    <tr> \n",
       "        <th id=\"T_1d440b0c_4679_11e9_8189_0122dc60dcbalevel0_row3\" class=\"row_heading level0 row3\" >3</th> \n",
       "        <td id=\"T_1d440b0c_4679_11e9_8189_0122dc60dcbarow3_col0\" class=\"data row3 col0\" >Afghanistan</td> \n",
       "        <td id=\"T_1d440b0c_4679_11e9_8189_0122dc60dcbarow3_col1\" class=\"data row3 col1\" >O</td> \n",
       "        <td id=\"T_1d440b0c_4679_11e9_8189_0122dc60dcbarow3_col2\" class=\"data row3 col2\" >O</td> \n",
       "        <td id=\"T_1d440b0c_4679_11e9_8189_0122dc60dcbarow3_col3\" class=\"data row3 col3\" >O</td> \n",
       "        <td id=\"T_1d440b0c_4679_11e9_8189_0122dc60dcbarow3_col4\" class=\"data row3 col4\" >O</td> \n",
       "        <td id=\"T_1d440b0c_4679_11e9_8189_0122dc60dcbarow3_col5\" class=\"data row3 col5\" >O</td> \n",
       "        <td id=\"T_1d440b0c_4679_11e9_8189_0122dc60dcbarow3_col6\" class=\"data row3 col6\" >O</td> \n",
       "    </tr>    <tr> \n",
       "        <th id=\"T_1d440b0c_4679_11e9_8189_0122dc60dcbalevel0_row4\" class=\"row_heading level0 row4\" >4</th> \n",
       "        <td id=\"T_1d440b0c_4679_11e9_8189_0122dc60dcbarow4_col0\" class=\"data row4 col0\" >say</td> \n",
       "        <td id=\"T_1d440b0c_4679_11e9_8189_0122dc60dcbarow4_col1\" class=\"data row4 col1\" >B-art</td> \n",
       "        <td id=\"T_1d440b0c_4679_11e9_8189_0122dc60dcbarow4_col2\" class=\"data row4 col2\" >B-geo</td> \n",
       "        <td id=\"T_1d440b0c_4679_11e9_8189_0122dc60dcbarow4_col3\" class=\"data row4 col3\" >B-geo</td> \n",
       "        <td id=\"T_1d440b0c_4679_11e9_8189_0122dc60dcbarow4_col4\" class=\"data row4 col4\" >B-geo</td> \n",
       "        <td id=\"T_1d440b0c_4679_11e9_8189_0122dc60dcbarow4_col5\" class=\"data row4 col5\" >B-geo</td> \n",
       "        <td id=\"T_1d440b0c_4679_11e9_8189_0122dc60dcbarow4_col6\" class=\"data row4 col6\" >B-geo</td> \n",
       "    </tr>    <tr> \n",
       "        <th id=\"T_1d440b0c_4679_11e9_8189_0122dc60dcbalevel0_row5\" class=\"row_heading level0 row5\" >5</th> \n",
       "        <td id=\"T_1d440b0c_4679_11e9_8189_0122dc60dcbarow5_col0\" class=\"data row5 col0\" >a</td> \n",
       "        <td id=\"T_1d440b0c_4679_11e9_8189_0122dc60dcbarow5_col1\" class=\"data row5 col1\" >I-art</td> \n",
       "        <td id=\"T_1d440b0c_4679_11e9_8189_0122dc60dcbarow5_col2\" class=\"data row5 col2\" >I-tim</td> \n",
       "        <td id=\"T_1d440b0c_4679_11e9_8189_0122dc60dcbarow5_col3\" class=\"data row5 col3\" >O</td> \n",
       "        <td id=\"T_1d440b0c_4679_11e9_8189_0122dc60dcbarow5_col4\" class=\"data row5 col4\" >I-geo</td> \n",
       "        <td id=\"T_1d440b0c_4679_11e9_8189_0122dc60dcbarow5_col5\" class=\"data row5 col5\" >I-geo</td> \n",
       "        <td id=\"T_1d440b0c_4679_11e9_8189_0122dc60dcbarow5_col6\" class=\"data row5 col6\" >I-geo</td> \n",
       "    </tr>    <tr> \n",
       "        <th id=\"T_1d440b0c_4679_11e9_8189_0122dc60dcbalevel0_row6\" class=\"row_heading level0 row6\" >6</th> \n",
       "        <td id=\"T_1d440b0c_4679_11e9_8189_0122dc60dcbarow6_col0\" class=\"data row6 col0\" >roadside</td> \n",
       "        <td id=\"T_1d440b0c_4679_11e9_8189_0122dc60dcbarow6_col1\" class=\"data row6 col1\" >O</td> \n",
       "        <td id=\"T_1d440b0c_4679_11e9_8189_0122dc60dcbarow6_col2\" class=\"data row6 col2\" >O</td> \n",
       "        <td id=\"T_1d440b0c_4679_11e9_8189_0122dc60dcbarow6_col3\" class=\"data row6 col3\" >O</td> \n",
       "        <td id=\"T_1d440b0c_4679_11e9_8189_0122dc60dcbarow6_col4\" class=\"data row6 col4\" >O</td> \n",
       "        <td id=\"T_1d440b0c_4679_11e9_8189_0122dc60dcbarow6_col5\" class=\"data row6 col5\" >O</td> \n",
       "        <td id=\"T_1d440b0c_4679_11e9_8189_0122dc60dcbarow6_col6\" class=\"data row6 col6\" >O</td> \n",
       "    </tr>    <tr> \n",
       "        <th id=\"T_1d440b0c_4679_11e9_8189_0122dc60dcbalevel0_row7\" class=\"row_heading level0 row7\" >7</th> \n",
       "        <td id=\"T_1d440b0c_4679_11e9_8189_0122dc60dcbarow7_col0\" class=\"data row7 col0\" >bomb</td> \n",
       "        <td id=\"T_1d440b0c_4679_11e9_8189_0122dc60dcbarow7_col1\" class=\"data row7 col1\" >B-tim</td> \n",
       "        <td id=\"T_1d440b0c_4679_11e9_8189_0122dc60dcbarow7_col2\" class=\"data row7 col2\" >B-tim</td> \n",
       "        <td id=\"T_1d440b0c_4679_11e9_8189_0122dc60dcbarow7_col3\" class=\"data row7 col3\" >B-tim</td> \n",
       "        <td id=\"T_1d440b0c_4679_11e9_8189_0122dc60dcbarow7_col4\" class=\"data row7 col4\" >B-tim</td> \n",
       "        <td id=\"T_1d440b0c_4679_11e9_8189_0122dc60dcbarow7_col5\" class=\"data row7 col5\" >B-tim</td> \n",
       "        <td id=\"T_1d440b0c_4679_11e9_8189_0122dc60dcbarow7_col6\" class=\"data row7 col6\" >B-tim</td> \n",
       "    </tr>    <tr> \n",
       "        <th id=\"T_1d440b0c_4679_11e9_8189_0122dc60dcbalevel0_row8\" class=\"row_heading level0 row8\" >8</th> \n",
       "        <td id=\"T_1d440b0c_4679_11e9_8189_0122dc60dcbarow8_col0\" class=\"data row8 col0\" >has</td> \n",
       "        <td id=\"T_1d440b0c_4679_11e9_8189_0122dc60dcbarow8_col1\" class=\"data row8 col1\" >I-tim</td> \n",
       "        <td id=\"T_1d440b0c_4679_11e9_8189_0122dc60dcbarow8_col2\" class=\"data row8 col2\" >B-tim</td> \n",
       "        <td id=\"T_1d440b0c_4679_11e9_8189_0122dc60dcbarow8_col3\" class=\"data row8 col3\" >B-tim</td> \n",
       "        <td id=\"T_1d440b0c_4679_11e9_8189_0122dc60dcbarow8_col4\" class=\"data row8 col4\" >I-tim</td> \n",
       "        <td id=\"T_1d440b0c_4679_11e9_8189_0122dc60dcbarow8_col5\" class=\"data row8 col5\" >I-tim</td> \n",
       "        <td id=\"T_1d440b0c_4679_11e9_8189_0122dc60dcbarow8_col6\" class=\"data row8 col6\" >I-tim</td> \n",
       "    </tr>    <tr> \n",
       "        <th id=\"T_1d440b0c_4679_11e9_8189_0122dc60dcbalevel0_row9\" class=\"row_heading level0 row9\" >9</th> \n",
       "        <td id=\"T_1d440b0c_4679_11e9_8189_0122dc60dcbarow9_col0\" class=\"data row9 col0\" >ripped</td> \n",
       "        <td id=\"T_1d440b0c_4679_11e9_8189_0122dc60dcbarow9_col1\" class=\"data row9 col1\" >O</td> \n",
       "        <td id=\"T_1d440b0c_4679_11e9_8189_0122dc60dcbarow9_col2\" class=\"data row9 col2\" >O</td> \n",
       "        <td id=\"T_1d440b0c_4679_11e9_8189_0122dc60dcbarow9_col3\" class=\"data row9 col3\" >O</td> \n",
       "        <td id=\"T_1d440b0c_4679_11e9_8189_0122dc60dcbarow9_col4\" class=\"data row9 col4\" >O</td> \n",
       "        <td id=\"T_1d440b0c_4679_11e9_8189_0122dc60dcbarow9_col5\" class=\"data row9 col5\" >O</td> \n",
       "        <td id=\"T_1d440b0c_4679_11e9_8189_0122dc60dcbarow9_col6\" class=\"data row9 col6\" >O</td> \n",
       "    </tr>    <tr> \n",
       "        <th id=\"T_1d440b0c_4679_11e9_8189_0122dc60dcbalevel0_row10\" class=\"row_heading level0 row10\" >10</th> \n",
       "        <td id=\"T_1d440b0c_4679_11e9_8189_0122dc60dcbarow10_col0\" class=\"data row10 col0\" >through</td> \n",
       "        <td id=\"T_1d440b0c_4679_11e9_8189_0122dc60dcbarow10_col1\" class=\"data row10 col1\" >O</td> \n",
       "        <td id=\"T_1d440b0c_4679_11e9_8189_0122dc60dcbarow10_col2\" class=\"data row10 col2\" >O</td> \n",
       "        <td id=\"T_1d440b0c_4679_11e9_8189_0122dc60dcbarow10_col3\" class=\"data row10 col3\" >O</td> \n",
       "        <td id=\"T_1d440b0c_4679_11e9_8189_0122dc60dcbarow10_col4\" class=\"data row10 col4\" >O</td> \n",
       "        <td id=\"T_1d440b0c_4679_11e9_8189_0122dc60dcbarow10_col5\" class=\"data row10 col5\" >O</td> \n",
       "        <td id=\"T_1d440b0c_4679_11e9_8189_0122dc60dcbarow10_col6\" class=\"data row10 col6\" >O</td> \n",
       "    </tr>    <tr> \n",
       "        <th id=\"T_1d440b0c_4679_11e9_8189_0122dc60dcbalevel0_row11\" class=\"row_heading level0 row11\" >11</th> \n",
       "        <td id=\"T_1d440b0c_4679_11e9_8189_0122dc60dcbarow11_col0\" class=\"data row11 col0\" >a</td> \n",
       "        <td id=\"T_1d440b0c_4679_11e9_8189_0122dc60dcbarow11_col1\" class=\"data row11 col1\" >O</td> \n",
       "        <td id=\"T_1d440b0c_4679_11e9_8189_0122dc60dcbarow11_col2\" class=\"data row11 col2\" >O</td> \n",
       "        <td id=\"T_1d440b0c_4679_11e9_8189_0122dc60dcbarow11_col3\" class=\"data row11 col3\" >O</td> \n",
       "        <td id=\"T_1d440b0c_4679_11e9_8189_0122dc60dcbarow11_col4\" class=\"data row11 col4\" >O</td> \n",
       "        <td id=\"T_1d440b0c_4679_11e9_8189_0122dc60dcbarow11_col5\" class=\"data row11 col5\" >O</td> \n",
       "        <td id=\"T_1d440b0c_4679_11e9_8189_0122dc60dcbarow11_col6\" class=\"data row11 col6\" >O</td> \n",
       "    </tr>    <tr> \n",
       "        <th id=\"T_1d440b0c_4679_11e9_8189_0122dc60dcbalevel0_row12\" class=\"row_heading level0 row12\" >12</th> \n",
       "        <td id=\"T_1d440b0c_4679_11e9_8189_0122dc60dcbarow12_col0\" class=\"data row12 col0\" >taxi</td> \n",
       "        <td id=\"T_1d440b0c_4679_11e9_8189_0122dc60dcbarow12_col1\" class=\"data row12 col1\" >O</td> \n",
       "        <td id=\"T_1d440b0c_4679_11e9_8189_0122dc60dcbarow12_col2\" class=\"data row12 col2\" >O</td> \n",
       "        <td id=\"T_1d440b0c_4679_11e9_8189_0122dc60dcbarow12_col3\" class=\"data row12 col3\" >O</td> \n",
       "        <td id=\"T_1d440b0c_4679_11e9_8189_0122dc60dcbarow12_col4\" class=\"data row12 col4\" >O</td> \n",
       "        <td id=\"T_1d440b0c_4679_11e9_8189_0122dc60dcbarow12_col5\" class=\"data row12 col5\" >O</td> \n",
       "        <td id=\"T_1d440b0c_4679_11e9_8189_0122dc60dcbarow12_col6\" class=\"data row12 col6\" >O</td> \n",
       "    </tr>    <tr> \n",
       "        <th id=\"T_1d440b0c_4679_11e9_8189_0122dc60dcbalevel0_row13\" class=\"row_heading level0 row13\" >13</th> \n",
       "        <td id=\"T_1d440b0c_4679_11e9_8189_0122dc60dcbarow13_col0\" class=\"data row13 col0\" >outside</td> \n",
       "        <td id=\"T_1d440b0c_4679_11e9_8189_0122dc60dcbarow13_col1\" class=\"data row13 col1\" >O</td> \n",
       "        <td id=\"T_1d440b0c_4679_11e9_8189_0122dc60dcbarow13_col2\" class=\"data row13 col2\" >O</td> \n",
       "        <td id=\"T_1d440b0c_4679_11e9_8189_0122dc60dcbarow13_col3\" class=\"data row13 col3\" >O</td> \n",
       "        <td id=\"T_1d440b0c_4679_11e9_8189_0122dc60dcbarow13_col4\" class=\"data row13 col4\" >O</td> \n",
       "        <td id=\"T_1d440b0c_4679_11e9_8189_0122dc60dcbarow13_col5\" class=\"data row13 col5\" >O</td> \n",
       "        <td id=\"T_1d440b0c_4679_11e9_8189_0122dc60dcbarow13_col6\" class=\"data row13 col6\" >O</td> \n",
       "    </tr>    <tr> \n",
       "        <th id=\"T_1d440b0c_4679_11e9_8189_0122dc60dcbalevel0_row14\" class=\"row_heading level0 row14\" >14</th> \n",
       "        <td id=\"T_1d440b0c_4679_11e9_8189_0122dc60dcbarow14_col0\" class=\"data row14 col0\" >the</td> \n",
       "        <td id=\"T_1d440b0c_4679_11e9_8189_0122dc60dcbarow14_col1\" class=\"data row14 col1\" >O</td> \n",
       "        <td id=\"T_1d440b0c_4679_11e9_8189_0122dc60dcbarow14_col2\" class=\"data row14 col2\" >O</td> \n",
       "        <td id=\"T_1d440b0c_4679_11e9_8189_0122dc60dcbarow14_col3\" class=\"data row14 col3\" >O</td> \n",
       "        <td id=\"T_1d440b0c_4679_11e9_8189_0122dc60dcbarow14_col4\" class=\"data row14 col4\" >O</td> \n",
       "        <td id=\"T_1d440b0c_4679_11e9_8189_0122dc60dcbarow14_col5\" class=\"data row14 col5\" >O</td> \n",
       "        <td id=\"T_1d440b0c_4679_11e9_8189_0122dc60dcbarow14_col6\" class=\"data row14 col6\" >O</td> \n",
       "    </tr>    <tr> \n",
       "        <th id=\"T_1d440b0c_4679_11e9_8189_0122dc60dcbalevel0_row15\" class=\"row_heading level0 row15\" >15</th> \n",
       "        <td id=\"T_1d440b0c_4679_11e9_8189_0122dc60dcbarow15_col0\" class=\"data row15 col0\" >capital</td> \n",
       "        <td id=\"T_1d440b0c_4679_11e9_8189_0122dc60dcbarow15_col1\" class=\"data row15 col1\" >O</td> \n",
       "        <td id=\"T_1d440b0c_4679_11e9_8189_0122dc60dcbarow15_col2\" class=\"data row15 col2\" >O</td> \n",
       "        <td id=\"T_1d440b0c_4679_11e9_8189_0122dc60dcbarow15_col3\" class=\"data row15 col3\" >O</td> \n",
       "        <td id=\"T_1d440b0c_4679_11e9_8189_0122dc60dcbarow15_col4\" class=\"data row15 col4\" >O</td> \n",
       "        <td id=\"T_1d440b0c_4679_11e9_8189_0122dc60dcbarow15_col5\" class=\"data row15 col5\" >O</td> \n",
       "        <td id=\"T_1d440b0c_4679_11e9_8189_0122dc60dcbarow15_col6\" class=\"data row15 col6\" >O</td> \n",
       "    </tr>    <tr> \n",
       "        <th id=\"T_1d440b0c_4679_11e9_8189_0122dc60dcbalevel0_row16\" class=\"row_heading level0 row16\" >16</th> \n",
       "        <td id=\"T_1d440b0c_4679_11e9_8189_0122dc60dcbarow16_col0\" class=\"data row16 col0\" >,</td> \n",
       "        <td id=\"T_1d440b0c_4679_11e9_8189_0122dc60dcbarow16_col1\" class=\"data row16 col1\" >O</td> \n",
       "        <td id=\"T_1d440b0c_4679_11e9_8189_0122dc60dcbarow16_col2\" class=\"data row16 col2\" >O</td> \n",
       "        <td id=\"T_1d440b0c_4679_11e9_8189_0122dc60dcbarow16_col3\" class=\"data row16 col3\" >O</td> \n",
       "        <td id=\"T_1d440b0c_4679_11e9_8189_0122dc60dcbarow16_col4\" class=\"data row16 col4\" >O</td> \n",
       "        <td id=\"T_1d440b0c_4679_11e9_8189_0122dc60dcbarow16_col5\" class=\"data row16 col5\" >O</td> \n",
       "        <td id=\"T_1d440b0c_4679_11e9_8189_0122dc60dcbarow16_col6\" class=\"data row16 col6\" >O</td> \n",
       "    </tr>    <tr> \n",
       "        <th id=\"T_1d440b0c_4679_11e9_8189_0122dc60dcbalevel0_row17\" class=\"row_heading level0 row17\" >17</th> \n",
       "        <td id=\"T_1d440b0c_4679_11e9_8189_0122dc60dcbarow17_col0\" class=\"data row17 col0\" >killing</td> \n",
       "        <td id=\"T_1d440b0c_4679_11e9_8189_0122dc60dcbarow17_col1\" class=\"data row17 col1\" >O</td> \n",
       "        <td id=\"T_1d440b0c_4679_11e9_8189_0122dc60dcbarow17_col2\" class=\"data row17 col2\" >O</td> \n",
       "        <td id=\"T_1d440b0c_4679_11e9_8189_0122dc60dcbarow17_col3\" class=\"data row17 col3\" >O</td> \n",
       "        <td id=\"T_1d440b0c_4679_11e9_8189_0122dc60dcbarow17_col4\" class=\"data row17 col4\" >O</td> \n",
       "        <td id=\"T_1d440b0c_4679_11e9_8189_0122dc60dcbarow17_col5\" class=\"data row17 col5\" >O</td> \n",
       "        <td id=\"T_1d440b0c_4679_11e9_8189_0122dc60dcbarow17_col6\" class=\"data row17 col6\" >O</td> \n",
       "    </tr>    <tr> \n",
       "        <th id=\"T_1d440b0c_4679_11e9_8189_0122dc60dcbalevel0_row18\" class=\"row_heading level0 row18\" >18</th> \n",
       "        <td id=\"T_1d440b0c_4679_11e9_8189_0122dc60dcbarow18_col0\" class=\"data row18 col0\" >at</td> \n",
       "        <td id=\"T_1d440b0c_4679_11e9_8189_0122dc60dcbarow18_col1\" class=\"data row18 col1\" >O</td> \n",
       "        <td id=\"T_1d440b0c_4679_11e9_8189_0122dc60dcbarow18_col2\" class=\"data row18 col2\" >O</td> \n",
       "        <td id=\"T_1d440b0c_4679_11e9_8189_0122dc60dcbarow18_col3\" class=\"data row18 col3\" >O</td> \n",
       "        <td id=\"T_1d440b0c_4679_11e9_8189_0122dc60dcbarow18_col4\" class=\"data row18 col4\" >O</td> \n",
       "        <td id=\"T_1d440b0c_4679_11e9_8189_0122dc60dcbarow18_col5\" class=\"data row18 col5\" >O</td> \n",
       "        <td id=\"T_1d440b0c_4679_11e9_8189_0122dc60dcbarow18_col6\" class=\"data row18 col6\" >O</td> \n",
       "    </tr>    <tr> \n",
       "        <th id=\"T_1d440b0c_4679_11e9_8189_0122dc60dcbalevel0_row19\" class=\"row_heading level0 row19\" >19</th> \n",
       "        <td id=\"T_1d440b0c_4679_11e9_8189_0122dc60dcbarow19_col0\" class=\"data row19 col0\" >least</td> \n",
       "        <td id=\"T_1d440b0c_4679_11e9_8189_0122dc60dcbarow19_col1\" class=\"data row19 col1\" >O</td> \n",
       "        <td id=\"T_1d440b0c_4679_11e9_8189_0122dc60dcbarow19_col2\" class=\"data row19 col2\" >O</td> \n",
       "        <td id=\"T_1d440b0c_4679_11e9_8189_0122dc60dcbarow19_col3\" class=\"data row19 col3\" >O</td> \n",
       "        <td id=\"T_1d440b0c_4679_11e9_8189_0122dc60dcbarow19_col4\" class=\"data row19 col4\" >O</td> \n",
       "        <td id=\"T_1d440b0c_4679_11e9_8189_0122dc60dcbarow19_col5\" class=\"data row19 col5\" >O</td> \n",
       "        <td id=\"T_1d440b0c_4679_11e9_8189_0122dc60dcbarow19_col6\" class=\"data row19 col6\" >O</td> \n",
       "    </tr>    <tr> \n",
       "        <th id=\"T_1d440b0c_4679_11e9_8189_0122dc60dcbalevel0_row20\" class=\"row_heading level0 row20\" >20</th> \n",
       "        <td id=\"T_1d440b0c_4679_11e9_8189_0122dc60dcbarow20_col0\" class=\"data row20 col0\" >one</td> \n",
       "        <td id=\"T_1d440b0c_4679_11e9_8189_0122dc60dcbarow20_col1\" class=\"data row20 col1\" >O</td> \n",
       "        <td id=\"T_1d440b0c_4679_11e9_8189_0122dc60dcbarow20_col2\" class=\"data row20 col2\" >O</td> \n",
       "        <td id=\"T_1d440b0c_4679_11e9_8189_0122dc60dcbarow20_col3\" class=\"data row20 col3\" >O</td> \n",
       "        <td id=\"T_1d440b0c_4679_11e9_8189_0122dc60dcbarow20_col4\" class=\"data row20 col4\" >O</td> \n",
       "        <td id=\"T_1d440b0c_4679_11e9_8189_0122dc60dcbarow20_col5\" class=\"data row20 col5\" >O</td> \n",
       "        <td id=\"T_1d440b0c_4679_11e9_8189_0122dc60dcbarow20_col6\" class=\"data row20 col6\" >O</td> \n",
       "    </tr>    <tr> \n",
       "        <th id=\"T_1d440b0c_4679_11e9_8189_0122dc60dcbalevel0_row21\" class=\"row_heading level0 row21\" >21</th> \n",
       "        <td id=\"T_1d440b0c_4679_11e9_8189_0122dc60dcbarow21_col0\" class=\"data row21 col0\" >civilian</td> \n",
       "        <td id=\"T_1d440b0c_4679_11e9_8189_0122dc60dcbarow21_col1\" class=\"data row21 col1\" >O</td> \n",
       "        <td id=\"T_1d440b0c_4679_11e9_8189_0122dc60dcbarow21_col2\" class=\"data row21 col2\" >O</td> \n",
       "        <td id=\"T_1d440b0c_4679_11e9_8189_0122dc60dcbarow21_col3\" class=\"data row21 col3\" >O</td> \n",
       "        <td id=\"T_1d440b0c_4679_11e9_8189_0122dc60dcbarow21_col4\" class=\"data row21 col4\" >O</td> \n",
       "        <td id=\"T_1d440b0c_4679_11e9_8189_0122dc60dcbarow21_col5\" class=\"data row21 col5\" >O</td> \n",
       "        <td id=\"T_1d440b0c_4679_11e9_8189_0122dc60dcbarow21_col6\" class=\"data row21 col6\" >O</td> \n",
       "    </tr>    <tr> \n",
       "        <th id=\"T_1d440b0c_4679_11e9_8189_0122dc60dcbalevel0_row22\" class=\"row_heading level0 row22\" >22</th> \n",
       "        <td id=\"T_1d440b0c_4679_11e9_8189_0122dc60dcbarow22_col0\" class=\"data row22 col0\" >and</td> \n",
       "        <td id=\"T_1d440b0c_4679_11e9_8189_0122dc60dcbarow22_col1\" class=\"data row22 col1\" >O</td> \n",
       "        <td id=\"T_1d440b0c_4679_11e9_8189_0122dc60dcbarow22_col2\" class=\"data row22 col2\" >O</td> \n",
       "        <td id=\"T_1d440b0c_4679_11e9_8189_0122dc60dcbarow22_col3\" class=\"data row22 col3\" >O</td> \n",
       "        <td id=\"T_1d440b0c_4679_11e9_8189_0122dc60dcbarow22_col4\" class=\"data row22 col4\" >O</td> \n",
       "        <td id=\"T_1d440b0c_4679_11e9_8189_0122dc60dcbarow22_col5\" class=\"data row22 col5\" >O</td> \n",
       "        <td id=\"T_1d440b0c_4679_11e9_8189_0122dc60dcbarow22_col6\" class=\"data row22 col6\" >O</td> \n",
       "    </tr>    <tr> \n",
       "        <th id=\"T_1d440b0c_4679_11e9_8189_0122dc60dcbalevel0_row23\" class=\"row_heading level0 row23\" >23</th> \n",
       "        <td id=\"T_1d440b0c_4679_11e9_8189_0122dc60dcbarow23_col0\" class=\"data row23 col0\" >wounding</td> \n",
       "        <td id=\"T_1d440b0c_4679_11e9_8189_0122dc60dcbarow23_col1\" class=\"data row23 col1\" >O</td> \n",
       "        <td id=\"T_1d440b0c_4679_11e9_8189_0122dc60dcbarow23_col2\" class=\"data row23 col2\" >O</td> \n",
       "        <td id=\"T_1d440b0c_4679_11e9_8189_0122dc60dcbarow23_col3\" class=\"data row23 col3\" >O</td> \n",
       "        <td id=\"T_1d440b0c_4679_11e9_8189_0122dc60dcbarow23_col4\" class=\"data row23 col4\" >O</td> \n",
       "        <td id=\"T_1d440b0c_4679_11e9_8189_0122dc60dcbarow23_col5\" class=\"data row23 col5\" >O</td> \n",
       "        <td id=\"T_1d440b0c_4679_11e9_8189_0122dc60dcbarow23_col6\" class=\"data row23 col6\" >O</td> \n",
       "    </tr>    <tr> \n",
       "        <th id=\"T_1d440b0c_4679_11e9_8189_0122dc60dcbalevel0_row24\" class=\"row_heading level0 row24\" >24</th> \n",
       "        <td id=\"T_1d440b0c_4679_11e9_8189_0122dc60dcbarow24_col0\" class=\"data row24 col0\" >four</td> \n",
       "        <td id=\"T_1d440b0c_4679_11e9_8189_0122dc60dcbarow24_col1\" class=\"data row24 col1\" >O</td> \n",
       "        <td id=\"T_1d440b0c_4679_11e9_8189_0122dc60dcbarow24_col2\" class=\"data row24 col2\" >O</td> \n",
       "        <td id=\"T_1d440b0c_4679_11e9_8189_0122dc60dcbarow24_col3\" class=\"data row24 col3\" >O</td> \n",
       "        <td id=\"T_1d440b0c_4679_11e9_8189_0122dc60dcbarow24_col4\" class=\"data row24 col4\" >O</td> \n",
       "        <td id=\"T_1d440b0c_4679_11e9_8189_0122dc60dcbarow24_col5\" class=\"data row24 col5\" >O</td> \n",
       "        <td id=\"T_1d440b0c_4679_11e9_8189_0122dc60dcbarow24_col6\" class=\"data row24 col6\" >O</td> \n",
       "    </tr>    <tr> \n",
       "        <th id=\"T_1d440b0c_4679_11e9_8189_0122dc60dcbalevel0_row25\" class=\"row_heading level0 row25\" >25</th> \n",
       "        <td id=\"T_1d440b0c_4679_11e9_8189_0122dc60dcbarow25_col0\" class=\"data row25 col0\" >others</td> \n",
       "        <td id=\"T_1d440b0c_4679_11e9_8189_0122dc60dcbarow25_col1\" class=\"data row25 col1\" >O</td> \n",
       "        <td id=\"T_1d440b0c_4679_11e9_8189_0122dc60dcbarow25_col2\" class=\"data row25 col2\" >O</td> \n",
       "        <td id=\"T_1d440b0c_4679_11e9_8189_0122dc60dcbarow25_col3\" class=\"data row25 col3\" >O</td> \n",
       "        <td id=\"T_1d440b0c_4679_11e9_8189_0122dc60dcbarow25_col4\" class=\"data row25 col4\" >O</td> \n",
       "        <td id=\"T_1d440b0c_4679_11e9_8189_0122dc60dcbarow25_col5\" class=\"data row25 col5\" >O</td> \n",
       "        <td id=\"T_1d440b0c_4679_11e9_8189_0122dc60dcbarow25_col6\" class=\"data row25 col6\" >O</td> \n",
       "    </tr></tbody> \n",
       "</table> "
      ],
      "text/plain": [
       "<pandas.io.formats.style.Styler at 0x7f36e5283470>"
      ]
     },
     "metadata": {},
     "output_type": "display_data"
    }
   ],
   "source": [
    "# run this cell to show you result #\n",
    "display(df.style.apply(highlight_errors, axis=1))"
   ]
  },
  {
   "cell_type": "markdown",
   "metadata": {},
   "source": [
    "<span class='sub-q'>**Question 3.3**</span>\n",
    "\n",
    "(1) Choose one of the most promising models you have built, improve this model to achieve the f1 score higher than 0.8 for as many tags as possible ( you have lots of options here, e.g. data balancing, hyperparameter tuning, changing the structure of NN, a different optimizer, ... )\n",
    "\n",
    "(2) Explain why you choose to change certain elements of the model and how effective those adjustments are.\n"
   ]
  },
  {
   "cell_type": "code",
   "execution_count": 528,
   "metadata": {},
   "outputs": [
    {
     "data": {
      "image/png": "[encoded data removed]",
      "text/plain": [
       "<Figure size 1440x864 with 1 Axes>"
      ]
     },
     "metadata": {
      "needs_background": "light"
     },
     "output_type": "display_data"
    }
   ],
   "source": [
    "scores_df.plot(kind='bar', title ='F1 Scores of 5 Models', figsize=(20, 12), legend=True, fontsize=12);"
   ]
  },
  {
   "cell_type": "markdown",
   "metadata": {},
   "source": [
    "<div class=\"alert alert-block alert-info\">\n",
    "\n",
    "We'll choose to start from the bidirectional GRU as it achieves above or close to above 0.8 F1 score for a lot of tags except the difficult tags. Then, we will consider the SimpleRNN which did do better on the dofficult classes. \n",
    "\n",
    "</div>"
   ]
  },
  {
   "cell_type": "code",
   "execution_count": 161,
   "metadata": {},
   "outputs": [],
   "source": [
    "# X = np.load('X.npy')\n",
    "# Y = np.load('Y.npy')\n",
    "# # split \n",
    "# X_train, X_test, Y_train, Y_test = train_test_split(X, Y, test_size= 0.1)\n",
    "# np.random.seed(42)\n",
    "# xx = np.arange(X_train.shape[0])\n",
    "# x_train = X_train[xx, :]\n",
    "# y_train = Y_train[xx, :]\n",
    "# max_len = 104\n",
    "# n_tags =18\n",
    "# n_words = 35179\n",
    "# dim_embed  = 50\n",
    "# drop_rate = 0.1\n",
    "# n_units = 100\n",
    "# batch_size = 32\n",
    "# verbose = 1\n",
    "# validation_split = 0.2\n",
    "# Yt = Y_test.argmax(-1)"
   ]
  },
  {
   "cell_type": "markdown",
   "metadata": {},
   "source": [
    "### Conv1d with Bidirectional GRU"
   ]
  },
  {
   "cell_type": "code",
   "execution_count": 162,
   "metadata": {},
   "outputs": [],
   "source": [
    "callbacks = [EarlyStopping(monitor='val_loss', patience=2),\n",
    "             ModelCheckpoint(filepath='best_model.h5', monitor='val_loss', save_best_only=True)]"
   ]
  },
  {
   "cell_type": "code",
   "execution_count": 163,
   "metadata": {},
   "outputs": [
    {
     "name": "stdout",
     "output_type": "stream",
     "text": [
      "_________________________________________________________________\n",
      "Layer (type)                 Output Shape              Param #   \n",
      "=================================================================\n",
      "embedding_32 (Embedding)     (None, 104, 50)           1758950   \n",
      "_________________________________________________________________\n",
      "conv1d_13 (Conv1D)           (None, 104, 64)           9664      \n",
      "_________________________________________________________________\n",
      "dropout_23 (Dropout)         (None, 104, 64)           0         \n",
      "_________________________________________________________________\n",
      "bidirectional_9 (Bidirection (None, 104, 200)          99000     \n",
      "_________________________________________________________________\n",
      "time_distributed_19 (TimeDis (None, 104, 18)           3618      \n",
      "=================================================================\n",
      "Total params: 1,871,232\n",
      "Trainable params: 1,871,232\n",
      "Non-trainable params: 0\n",
      "_________________________________________________________________\n",
      "None\n"
     ]
    }
   ],
   "source": [
    "model = Sequential()\n",
    "model.add(Embedding(n_words, dim_embed, input_length=max_len))\n",
    "model.add(Conv1D(64, kernel_size=3, padding='same', activation='relu'))\n",
    "model.add(Dropout(0.2))\n",
    "model.add(Bidirectional(GRU(100, return_sequences=True)))\n",
    "model.add(TimeDistributed(Dense(n_tags, activation='softmax')))\n",
    "model.compile(loss='categorical_crossentropy', optimizer='adam', metrics=['accuracy'])\n",
    "print(model.summary())"
   ]
  },
  {
   "cell_type": "code",
   "execution_count": 164,
   "metadata": {},
   "outputs": [
    {
     "name": "stdout",
     "output_type": "stream",
     "text": [
      "Train on 34530 samples, validate on 8633 samples\n",
      "Epoch 1/15\n",
      "34530/34530 [==============================] - 161s 5ms/step - loss: 0.1580 - acc: 0.9654 - val_loss: 0.0452 - val_acc: 0.9871\n",
      "Epoch 2/15\n",
      "34530/34530 [==============================] - 157s 5ms/step - loss: 0.0312 - acc: 0.9911 - val_loss: 0.0277 - val_acc: 0.9920\n",
      "Epoch 3/15\n",
      "34530/34530 [==============================] - 157s 5ms/step - loss: 0.0203 - acc: 0.9941 - val_loss: 0.0250 - val_acc: 0.9929\n",
      "Epoch 4/15\n",
      "34530/34530 [==============================] - 156s 5ms/step - loss: 0.0166 - acc: 0.9951 - val_loss: 0.0247 - val_acc: 0.9930\n",
      "Epoch 5/15\n",
      "34530/34530 [==============================] - 157s 5ms/step - loss: 0.0144 - acc: 0.9956 - val_loss: 0.0249 - val_acc: 0.9928\n",
      "Epoch 6/15\n",
      "34530/34530 [==============================] - 157s 5ms/step - loss: 0.0129 - acc: 0.9960 - val_loss: 0.0251 - val_acc: 0.9930\n"
     ]
    }
   ],
   "source": [
    "history = model.fit(x_train, # Features\n",
    "                      y_train, # Target vector\n",
    "                      epochs=15, # Number of epochs\n",
    "                      callbacks=callbacks, # Early stopping\n",
    "                      verbose=verbose, # Print description after each epoch\n",
    "                      batch_size=64, # Number of observations per batch\n",
    "                      validation_split=0.2) # Data for evaluation"
   ]
  },
  {
   "cell_type": "code",
   "execution_count": 165,
   "metadata": {},
   "outputs": [
    {
     "name": "stdout",
     "output_type": "stream",
     "text": [
      "4796/4796 [==============================] - 16s 3ms/step\n",
      "Accuracy: 99.58%\n"
     ]
    }
   ],
   "source": [
    "# Final evaluation of the model\n",
    "model_score = model.evaluate(X_test, Y_test, verbose=verbose)\n",
    "print(\"Accuracy: %.2f%%\" % (model_score[1]*100))"
   ]
  },
  {
   "cell_type": "code",
   "execution_count": 166,
   "metadata": {},
   "outputs": [],
   "source": [
    "model_preds = model.predict(X_test).argmax(-1)"
   ]
  },
  {
   "cell_type": "code",
   "execution_count": 167,
   "metadata": {},
   "outputs": [],
   "source": [
    "model_scores_f1 = np.zeros(n_tags)-1\n",
    "for tag in range(n_tags):\n",
    "    model_scores_f1[tag] = f1(Yt, model_preds, tag)"
   ]
  },
  {
   "cell_type": "code",
   "execution_count": 168,
   "metadata": {},
   "outputs": [
    {
     "data": {
      "text/plain": [
       "array([0.        , 0.        , 0.02995008, 0.01974522, 0.        ,\n",
       "       0.02411533, 0.03343109, 0.01820359, 0.        , 0.        ,\n",
       "       0.00402685, 0.        , 0.        , 0.01672141, 0.02567164,\n",
       "       0.00439239, 0.66767375, 0.94542471])"
      ]
     },
     "execution_count": 168,
     "metadata": {},
     "output_type": "execute_result"
    }
   ],
   "source": [
    "model_scores_f1"
   ]
  },
  {
   "cell_type": "code",
   "execution_count": 169,
   "metadata": {},
   "outputs": [
    {
     "data": {
      "text/plain": [
       "0.09940867012833278"
      ]
     },
     "execution_count": 169,
     "metadata": {},
     "output_type": "execute_result"
    }
   ],
   "source": [
    "model_scores_f1.mean()"
   ]
  },
  {
   "cell_type": "markdown",
   "metadata": {},
   "source": [
    "### Conv1d with SimpleRNN"
   ]
  },
  {
   "cell_type": "code",
   "execution_count": 170,
   "metadata": {},
   "outputs": [
    {
     "name": "stdout",
     "output_type": "stream",
     "text": [
      "_________________________________________________________________\n",
      "Layer (type)                 Output Shape              Param #   \n",
      "=================================================================\n",
      "embedding_33 (Embedding)     (None, 104, 50)           1758950   \n",
      "_________________________________________________________________\n",
      "conv1d_14 (Conv1D)           (None, 104, 64)           9664      \n",
      "_________________________________________________________________\n",
      "dropout_24 (Dropout)         (None, 104, 64)           0         \n",
      "_________________________________________________________________\n",
      "simple_rnn_7 (SimpleRNN)     (None, 104, 150)          32250     \n",
      "_________________________________________________________________\n",
      "time_distributed_20 (TimeDis (None, 104, 18)           2718      \n",
      "=================================================================\n",
      "Total params: 1,803,582\n",
      "Trainable params: 1,803,582\n",
      "Non-trainable params: 0\n",
      "_________________________________________________________________\n",
      "None\n"
     ]
    }
   ],
   "source": [
    "model_2 = Sequential()\n",
    "model_2.add(Embedding(n_words, dim_embed, input_length=max_len))\n",
    "model_2.add(Conv1D(64, kernel_size=3, padding='same', activation='relu'))\n",
    "model_2.add(Dropout(0.2))\n",
    "model_2.add(SimpleRNN(150, return_sequences=True))\n",
    "model_2.add(TimeDistributed(Dense(n_tags, activation='softmax')))\n",
    "model_2.compile(loss='categorical_crossentropy', optimizer='adam', metrics=['accuracy'])\n",
    "print(model_2.summary())\n",
    "callbacks = [EarlyStopping(monitor='val_loss', patience=2),\n",
    "             ModelCheckpoint(filepath='best_model_2.h5', monitor='val_loss', save_best_only=True)]"
   ]
  },
  {
   "cell_type": "code",
   "execution_count": 171,
   "metadata": {},
   "outputs": [
    {
     "name": "stdout",
     "output_type": "stream",
     "text": [
      "Train on 34530 samples, validate on 8633 samples\n",
      "Epoch 1/15\n",
      "34530/34530 [==============================] - 46s 1ms/step - loss: 0.1672 - acc: 0.9595 - val_loss: 0.0529 - val_acc: 0.9849\n",
      "Epoch 2/15\n",
      "34530/34530 [==============================] - 43s 1ms/step - loss: 0.0346 - acc: 0.9905 - val_loss: 0.0266 - val_acc: 0.9925\n",
      "Epoch 3/15\n",
      "34530/34530 [==============================] - 44s 1ms/step - loss: 0.0210 - acc: 0.9940 - val_loss: 0.0242 - val_acc: 0.9930\n",
      "Epoch 4/15\n",
      "34530/34530 [==============================] - 44s 1ms/step - loss: 0.0167 - acc: 0.9950 - val_loss: 0.0239 - val_acc: 0.9931\n",
      "Epoch 5/15\n",
      "34530/34530 [==============================] - 43s 1ms/step - loss: 0.0143 - acc: 0.9956 - val_loss: 0.0243 - val_acc: 0.9931\n",
      "Epoch 6/15\n",
      "34530/34530 [==============================] - 43s 1ms/step - loss: 0.0126 - acc: 0.9960 - val_loss: 0.0252 - val_acc: 0.9931\n"
     ]
    }
   ],
   "source": [
    "history = model_2.fit(x_train, # Features\n",
    "                      y_train, # Target vector\n",
    "                      epochs=15, # Number of epochs\n",
    "                      callbacks=callbacks, # Early stopping\n",
    "                      verbose=verbose, # Print description after each epoch\n",
    "                      batch_size=64, # Number of observations per batch\n",
    "                      validation_split=0.2) # Data for evaluation"
   ]
  },
  {
   "cell_type": "code",
   "execution_count": 172,
   "metadata": {},
   "outputs": [
    {
     "name": "stdout",
     "output_type": "stream",
     "text": [
      "4796/4796 [==============================] - 5s 1ms/step\n",
      "Accuracy: 99.59%\n"
     ]
    }
   ],
   "source": [
    "# Final evaluation of the model\n",
    "model_2_score = model_2.evaluate(X_test, Y_test, verbose=verbose)\n",
    "print(\"Accuracy: %.2f%%\" % (model_2_score[1]*100))"
   ]
  },
  {
   "cell_type": "code",
   "execution_count": 173,
   "metadata": {},
   "outputs": [],
   "source": [
    "model_2_preds = model_2.predict(X_test).argmax(-1)"
   ]
  },
  {
   "cell_type": "code",
   "execution_count": 174,
   "metadata": {},
   "outputs": [],
   "source": [
    "model_2_scores_f1 = np.zeros(n_tags)-1\n",
    "for tag in range(n_tags):\n",
    "    model_2_scores_f1[tag] = f1(Yt, model_2_preds, tag)"
   ]
  },
  {
   "cell_type": "code",
   "execution_count": 175,
   "metadata": {},
   "outputs": [
    {
     "data": {
      "text/plain": [
       "array([0.        , 0.        , 0.02790819, 0.01976411, 0.        ,\n",
       "       0.02605364, 0.03295386, 0.01783061, 0.        , 0.        ,\n",
       "       0.00410397, 0.        , 0.        , 0.01652893, 0.02536873,\n",
       "       0.00466563, 0.66910957, 0.94542993])"
      ]
     },
     "execution_count": 175,
     "metadata": {},
     "output_type": "execute_result"
    }
   ],
   "source": [
    "model_2_scores_f1"
   ]
  },
  {
   "cell_type": "code",
   "execution_count": 176,
   "metadata": {},
   "outputs": [
    {
     "data": {
      "text/plain": [
       "0.09942873141008203"
      ]
     },
     "execution_count": 176,
     "metadata": {},
     "output_type": "execute_result"
    }
   ],
   "source": [
    "model_2_scores_f1.mean()"
   ]
  },
  {
   "cell_type": "markdown",
   "metadata": {},
   "source": [
    "### Conv1d with Forward directional GRU"
   ]
  },
  {
   "cell_type": "code",
   "execution_count": 177,
   "metadata": {},
   "outputs": [
    {
     "name": "stdout",
     "output_type": "stream",
     "text": [
      "_________________________________________________________________\n",
      "Layer (type)                 Output Shape              Param #   \n",
      "=================================================================\n",
      "embedding_34 (Embedding)     (None, 104, 50)           1758950   \n",
      "_________________________________________________________________\n",
      "conv1d_15 (Conv1D)           (None, 104, 64)           9664      \n",
      "_________________________________________________________________\n",
      "dropout_25 (Dropout)         (None, 104, 64)           0         \n",
      "_________________________________________________________________\n",
      "gru_18 (GRU)                 (None, 104, 100)          49500     \n",
      "_________________________________________________________________\n",
      "time_distributed_21 (TimeDis (None, 104, 18)           1818      \n",
      "=================================================================\n",
      "Total params: 1,819,932\n",
      "Trainable params: 1,819,932\n",
      "Non-trainable params: 0\n",
      "_________________________________________________________________\n",
      "None\n"
     ]
    }
   ],
   "source": [
    "callbacks = [EarlyStopping(monitor='val_loss', patience=2),\n",
    "             ModelCheckpoint(filepath='best_model_3.h5', monitor='val_loss', save_best_only=True)]\n",
    "model_3 = Sequential()\n",
    "model_3.add(Embedding(n_words, dim_embed, input_length=max_len))\n",
    "model_3.add(Conv1D(64, kernel_size=3, padding='same', activation='relu'))\n",
    "model_3.add(Dropout(0.2))\n",
    "model_3.add(GRU(100, return_sequences=True))\n",
    "model_3.add(TimeDistributed(Dense(n_tags, activation='softmax')))\n",
    "model_3.compile(loss='categorical_crossentropy', optimizer='adam', metrics=['accuracy'])\n",
    "print(model_3.summary())"
   ]
  },
  {
   "cell_type": "code",
   "execution_count": 178,
   "metadata": {},
   "outputs": [
    {
     "name": "stdout",
     "output_type": "stream",
     "text": [
      "Train on 34530 samples, validate on 8633 samples\n",
      "Epoch 1/15\n",
      "34530/34530 [==============================] - 89s 3ms/step - loss: 0.1898 - acc: 0.9626 - val_loss: 0.0497 - val_acc: 0.9861\n",
      "Epoch 2/15\n",
      "34530/34530 [==============================] - 86s 2ms/step - loss: 0.0351 - acc: 0.9905 - val_loss: 0.0279 - val_acc: 0.9923\n",
      "Epoch 3/15\n",
      "34530/34530 [==============================] - 85s 2ms/step - loss: 0.0211 - acc: 0.9940 - val_loss: 0.0251 - val_acc: 0.9928\n",
      "Epoch 4/15\n",
      "34530/34530 [==============================] - 85s 2ms/step - loss: 0.0170 - acc: 0.9950 - val_loss: 0.0249 - val_acc: 0.9927\n",
      "Epoch 5/15\n",
      "34530/34530 [==============================] - 86s 2ms/step - loss: 0.0148 - acc: 0.9955 - val_loss: 0.0247 - val_acc: 0.9929\n",
      "Epoch 6/15\n",
      "34530/34530 [==============================] - 85s 2ms/step - loss: 0.0134 - acc: 0.9958 - val_loss: 0.0251 - val_acc: 0.9930\n",
      "Epoch 7/15\n",
      "34530/34530 [==============================] - 85s 2ms/step - loss: 0.0121 - acc: 0.9962 - val_loss: 0.0260 - val_acc: 0.9928\n"
     ]
    }
   ],
   "source": [
    "history = model_3.fit(x_train, # Features\n",
    "                      y_train, # Target vector\n",
    "                      epochs=15, # Number of epochs\n",
    "                      callbacks=callbacks, # Early stopping\n",
    "                      verbose=verbose, # Print description after each epoch\n",
    "                      batch_size=64, # Number of observations per batch\n",
    "                      validation_split=0.2) # Data for evaluation"
   ]
  },
  {
   "cell_type": "code",
   "execution_count": 179,
   "metadata": {},
   "outputs": [
    {
     "name": "stdout",
     "output_type": "stream",
     "text": [
      "4796/4796 [==============================] - 9s 2ms/step\n",
      "Accuracy: 99.59%\n"
     ]
    }
   ],
   "source": [
    "# Final evaluation of the model\n",
    "model_3_score = model_3.evaluate(X_test, Y_test, verbose=verbose)\n",
    "print(\"Accuracy: %.2f%%\" % (model_3_score[1]*100))"
   ]
  },
  {
   "cell_type": "code",
   "execution_count": 180,
   "metadata": {},
   "outputs": [],
   "source": [
    "model_3_preds = model_3.predict(X_test).argmax(-1)"
   ]
  },
  {
   "cell_type": "code",
   "execution_count": 181,
   "metadata": {},
   "outputs": [],
   "source": [
    "model_3_scores_f1 = np.zeros(n_tags)-1\n",
    "for tag in range(n_tags):\n",
    "    model_3_scores_f1[tag] = f1(Yt, model_3_preds, tag)"
   ]
  },
  {
   "cell_type": "code",
   "execution_count": 182,
   "metadata": {},
   "outputs": [
    {
     "data": {
      "text/plain": [
       "array([0.        , 0.        , 0.02790575, 0.02031101, 0.        ,\n",
       "       0.02526629, 0.03252033, 0.01912046, 0.        , 0.        ,\n",
       "       0.00398142, 0.        , 0.        , 0.01660243, 0.02654084,\n",
       "       0.00471328, 0.66792413, 0.94543071])"
      ]
     },
     "execution_count": 182,
     "metadata": {},
     "output_type": "execute_result"
    }
   ],
   "source": [
    "model_3_scores_f1"
   ]
  },
  {
   "cell_type": "code",
   "execution_count": 183,
   "metadata": {},
   "outputs": [
    {
     "data": {
      "text/plain": [
       "0.09946203590040469"
      ]
     },
     "execution_count": 183,
     "metadata": {},
     "output_type": "execute_result"
    }
   ],
   "source": [
    "model_3_scores_f1.mean()"
   ]
  },
  {
   "cell_type": "code",
   "execution_count": 265,
   "metadata": {},
   "outputs": [],
   "source": [
    "# Yt = Y_train.argmax(-1)\n",
    "# weights = {}\n",
    "# N_elem = Yt.shape[0]*Yt.shape[1]\n",
    "# for tag in range(n_tags):\n",
    "#     weights[tag] = np.sum(Yt == tag)/N_elem\n",
    "\n",
    "# callbacks = [EarlyStopping(monitor='val_loss', patience=2),\n",
    "#              ModelCheckpoint(filepath='best_model_4.h5', monitor='val_loss', save_best_only=True)]\n",
    "# model_4 = Sequential()\n",
    "# model_4.add(Embedding(n_words, dim_embed, input_length=max_len))\n",
    "# model_4.add(Conv1D(64, kernel_size=3, padding='same', activation='relu'))\n",
    "# model_4.add(Dropout(0.2))\n",
    "# model_4.add(GRU(100, return_sequences=True))\n",
    "# model_4.add(TimeDistributed(Dense(n_tags, activation='softmax')))\n",
    "# model_4.compile(loss='categorical_crossentropy', optimizer='adam', metrics=['accuracy'])\n",
    "# print(model_4.summary())"
   ]
  },
  {
   "cell_type": "code",
   "execution_count": 266,
   "metadata": {},
   "outputs": [],
   "source": [
    "# history = model_4.fit(x_train, # Features\n",
    "#                       y_train, # Target vector\n",
    "#                       epochs=15, # Number of epochs\n",
    "#                       callbacks=callbacks, # Early stopping\n",
    "#                       verbose=verbose, # Print description after each epoch\n",
    "#                       batch_size=64, # Number of observations per batch\n",
    "#                       validation_split=0.2, # Data for evaluation\n",
    "#                      class_weight=weights) "
   ]
  },
  {
   "cell_type": "code",
   "execution_count": 267,
   "metadata": {},
   "outputs": [],
   "source": [
    "# # Final evaluation of the model\n",
    "# model_4_score = model_4.evaluate(X_test, Y_test, verbose=verbose)\n",
    "# print(\"Accuracy: %.2f%%\" % (model_4_score[1]*100))"
   ]
  },
  {
   "cell_type": "code",
   "execution_count": 268,
   "metadata": {},
   "outputs": [],
   "source": [
    "# model_4_preds = model_4.predict(X_test).argmax(-1)"
   ]
  },
  {
   "cell_type": "code",
   "execution_count": 269,
   "metadata": {},
   "outputs": [],
   "source": [
    "# model_4_scores_f1 = np.zeros(n_tags)-1\n",
    "# for tag in range(n_tags):\n",
    "#     model_4_scores_f1[tag] = f1(Y_test.argmax(-1), model_4_preds, tag)"
   ]
  },
  {
   "cell_type": "code",
   "execution_count": 270,
   "metadata": {},
   "outputs": [],
   "source": [
    "# model_3_scores_f1"
   ]
  },
  {
   "cell_type": "code",
   "execution_count": 271,
   "metadata": {},
   "outputs": [],
   "source": [
    "# model_3_scores_f1.mean()"
   ]
  },
  {
   "cell_type": "markdown",
   "metadata": {},
   "source": [
    "<div class=\"alert alert-block alert-info\">\n",
    "\n",
    "The previous models were missidentifying certain classes such as article. By adding a convultional layer, we  look to capture articles as they are sandwhiched between other grammatical objects. Doing this, however, marginally improves the F1 score. We adjusted hyperparameters but do not manage to substantially increase the F! score. THe difficult to class targets are just not represented enough. We attempt to use the class wieght feature when we fit, but that does not seem to work. I would have liked to implement a weighted categorical cross entropy loss function for the model but I cannot properly match the tensorflow backend to do this as I have done for weighted binary cross entropy as follows:\n",
    "\n",
    "</div>\n",
    "\n",
    "```python\n",
    "# define new loss to keras from tf\n",
    "# the weighted binary cross entropy loss\n",
    "# multiplier for positive targets\n",
    "POS_WEIGHT = np.reciprocal(np.sum(y_train[:,1] == 1)/np.sum(y_train[:,1] == 0))  \n",
    "def weighted_binary_crossentropy(target, output):\n",
    "    # transform back to logits\n",
    "    epsilon = tfb._to_tensor(tfb.epsilon(), output.dtype.base_dtype)\n",
    "    output = tf.clip_by_value(output, epsilon, 1 - epsilon)\n",
    "    output = tf.log(output / (1 - output))\n",
    "    # compute weighted loss\n",
    "    loss = tf.nn.weighted_cross_entropy_with_logits(targets=target, logits=output,pos_weight=POS_WEIGHT)\n",
    "    return(tf.reduce_mean(loss, axis=-1))\n",
    "```\n",
    "\n",
    "<div class=\"alert alert-block alert-info\">\n",
    "\n",
    "Manually adjusted the \"weights\" by adding more of the underrepresented class here is a bit difficult as you would need to replicate the entire sentence, which may not be the best method. However, I would consider this in the future in addition to considerring revisitng the challenge of writing a weighted categorical cross entropy function that successfully ties into the tensorflow backend of keras. \n",
    "\n",
    "</div>"
   ]
  },
  {
   "cell_type": "markdown",
   "metadata": {},
   "source": [
    "\n",
    "<div class=\"alert alert-block alert-info\">\n",
    "\n",
    "Interestingly, we actually get better results when we mistakenly used binary cross entropy i.e. a one-versue-rest approach. If we could apply this approach while being able to adjust the weights on every one-versue-rest instance with the class weights, this may provide better results. However, I do not know how I would adjust the weight on every iteration of binary classification for the classes as the function I have for weighted binary cross entropy takes a global weight constant. This may also be another area worth exploring. \n",
    "\n",
    "</div>"
   ]
  },
  {
   "cell_type": "code",
   "execution_count": 273,
   "metadata": {},
   "outputs": [
    {
     "name": "stdout",
     "output_type": "stream",
     "text": [
      "0: 0.0001\n",
      "1: 0.0001\n",
      "2: 0.0076\n",
      "3: 0.0032\n",
      "4: 0.0000\n",
      "5: 0.0040\n",
      "6: 0.0034\n",
      "7: 0.0041\n",
      "8: 0.0001\n",
      "9: 0.0001\n",
      "10: 0.0015\n",
      "11: 0.0000\n",
      "12: 0.0000\n",
      "13: 0.0034\n",
      "14: 0.0035\n",
      "15: 0.0013\n",
      "16: 0.1780\n",
      "17: 0.7898\n"
     ]
    }
   ],
   "source": [
    "for key, value in weights.items():\n",
    "    print('{}: {:.4f}'.format(key, value))"
   ]
  }
 ],
 "metadata": {
  "kernelspec": {
   "display_name": "Python 3",
   "language": "python",
   "name": "python3"
  },
  "language_info": {
   "codemirror_mode": {
    "name": "ipython",
    "version": 3
   },
   "file_extension": ".py",
   "mimetype": "text/x-python",
   "name": "python",
   "nbconvert_exporter": "python",
   "pygments_lexer": "ipython3",
   "version": "3.6.8"
  }
 },
 "nbformat": 4,
 "nbformat_minor": 2
}
